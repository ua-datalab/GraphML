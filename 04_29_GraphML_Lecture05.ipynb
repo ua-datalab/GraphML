{
  "nbformat": 4,
  "nbformat_minor": 0,
  "metadata": {
    "colab": {
      "provenance": [],
      "gpuType": "T4",
      "authorship_tag": "ABX9TyOXbfQhY5m8+0jdnibybvox",
      "include_colab_link": true
    },
    "kernelspec": {
      "name": "python3",
      "display_name": "Python 3"
    },
    "language_info": {
      "name": "python"
    },
    "accelerator": "GPU"
  },
  "cells": [
    {
      "cell_type": "markdown",
      "metadata": {
        "id": "view-in-github",
        "colab_type": "text"
      },
      "source": [
        "<a href=\"https://colab.research.google.com/github/ua-datalab/GraphML/blob/main/04_29_GraphML_Lecture05.ipynb\" target=\"_parent\"><img src=\"https://colab.research.google.com/assets/colab-badge.svg\" alt=\"Open In Colab\"/></a>"
      ]
    },
    {
      "cell_type": "markdown",
      "source": [
        "# **Introduction to Graph ATtention networks (GATs)**"
      ],
      "metadata": {
        "id": "1zbObUbn9w3F"
      }
    },
    {
      "cell_type": "markdown",
      "source": [
        "### **Before we start, change the Runtime to T4**"
      ],
      "metadata": {
        "id": "ZGQSyizWDRtc"
      }
    },
    {
      "cell_type": "markdown",
      "source": [
        "### Graph Attention Networks (GATs), a key advancement from Graph Convolutional Networks (GCNs)(**from Tutorial 4**).\n",
        "\n",
        "### Unlike GCNs, which use static normalization coefficients, GATs employ dynamic weighting factors derived through a mechanism known as self-attention—a core feature in some of the most influential deep learning models, such as transformers, BERT, and GPT-3.\n",
        "\n",
        "### First introduced by [Veličković et al.](https://arxiv.org/abs/1710.10903) in 2017, GATs have gained popularity for their robust performance right out of the box."
      ],
      "metadata": {
        "id": "XhCKa3L5_3qJ"
      }
    },
    {
      "cell_type": "markdown",
      "source": [
        "In this chapter, we will explore the following topics:\n",
        "\n",
        "* Introduction to the graph attention layer\n",
        "* Implementing the graph attention layer using NumPy\n",
        "* Building a Graph Attention Network (GAT) with PyTorch Geometric\n",
        "\n"
      ],
      "metadata": {
        "id": "7vyZJ-emAicl"
      }
    },
    {
      "cell_type": "markdown",
      "source": [
        "## Understanding Graph Attention Networks (GATs)\n",
        "\n",
        "Graph Attention Networks (GATs) enhance the flexibility of graph neural networks by integrating node features into the weighting calculations, allowing for **dynamic attention scores** that surpass the **static weighting based solely on node degrees found in Graph Convolutional Networks** (GCNs).\n",
        "\n",
        "\n"
      ],
      "metadata": {
        "id": "mXm_XD_CDl7m"
      }
    },
    {
      "cell_type": "markdown",
      "source": [
        "\n",
        "\n",
        "---\n",
        "\n",
        "\n",
        "\n",
        "---\n",
        "\n"
      ],
      "metadata": {
        "id": "kIrUlAaaHcw9"
      }
    },
    {
      "cell_type": "markdown",
      "source": [
        "## Graph Convolution vs. Graph Attention Layer\n",
        "\n",
        "### Limitations of Graph Convolutions (from Tutorial 4)\n",
        "\n",
        "### In traditional graph convolutional networks, the significance of nodes with fewer neighbors is amplified by the normalization coefficient. This coefficient is often calculated as:\n",
        "\n",
        "$$ \\frac{1}{\\sqrt{\\text{degree}(node_i) \\times \\text{degree}(node_j)}} $$\n",
        "\n",
        "\n"
      ],
      "metadata": {
        "id": "UXmEsSYnDmAu"
      }
    },
    {
      "cell_type": "markdown",
      "source": [
        "## Graph Attention layer"
      ],
      "metadata": {
        "id": "V7jRh-04P0XN"
      }
    },
    {
      "cell_type": "markdown",
      "source": [
        "In contrast, the graph attention layer aims to produce weighting factors that incorporate both the structural context and the specific features of the nodes. These factors, referred to as \"attention scores,\" dynamically evaluate the importance of each neighboring node. For nodes $ i $ and any node $ j $ in the neighborhood $ N(i) $, the graph attention operation is defined as:\n",
        "\n",
        "$$ h_i = \\sum_{j \\in \\mathcal{N}(i)} \\alpha_{ij} W x_j $$\n"
      ],
      "metadata": {
        "id": "NIQLdU3xDmDm"
      }
    },
    {
      "cell_type": "markdown",
      "source": [
        "## Key Components of the Graph Attention Layer\n",
        "\n",
        "### Linear Transformation\n",
        "- **Purpose:** Each node feature undergoes a linear transformation, allowing for the integration of interactions between node pairs, which is critical for the layer's ability to focus on relevant information. This score takes into account the features from both nodes. In the graph attention layer, this relationship is captured by concatenating the hidden vectors of both nodes. The concatenated vector undergoes a linear transformation using a shared weight matrix $ W $, common for computing hidden vectors. This is further transformed by a dedicated, learnable weight matrix specifically designed to produce attention coefficients during the training process. This entire procedure is encapsulated by the following formula:\n",
        "\n",
        "$$ a_{ij} = W_a [Wx_i \\Vert Wx_j] $$\n",
        "\n",
        "### Activation Function\n",
        "- **Implementation:** Nonlinear functions such as Leaky ReLU are used to capture complex patterns that extend beyond simple linear combinations.\n",
        "- **Significance:** Nonlinearity is essential in neural networks to approximate nonlinear target functions effectively.\n",
        "\n",
        "The output from the previous step is then processed through a Leaky ReLU function. The **Leaky ReLU** introduces a small slope for negative values, allowing for a small, non-zero gradient when the unit is not active. This is represented by the equation:\n",
        "$$ y = \\max(0.01x, x) $$\n",
        "\n",
        "![Image](https://miro.medium.com/v2/resize:fit:720/format:webp/0*6DZve_x3t08PcwYm.JPG)\n",
        "\n",
        "### Softmax Normalization\n",
        "- **Function:** Normalizes attention scores across all nodes to ensure they are comparable, which is crucial for the model's training stability.\n",
        "- **Method:** Typically, the softmax function is employed for this purpose, scaling the attention scores in a way that they sum to one across the nodes' neighborhood.\n",
        "\n",
        "To effectively compare attention scores across different nodes, we must normalize these values to ensure they are on the same scale. This normalization commonly uses the softmax function in machine learning. For node $ i $ and its neighboring nodes, including itself, the softmax function is applied to calculate the normalized attention scores. The softmax calculation for\n",
        "$ \\alpha_{ij} $ is given by:\n",
        "\n",
        "$$ \\alpha_{ij} = \\text{softmax}_j(e_{ij}) = \\frac{e^{e_{ij}}}{\\sum_{k \\in \\mathcal{N}(i)} e^{e_{ik}}} $$\n",
        "\n",
        "\n",
        "### Multi-head Attention\n",
        "- **Inspiration:** Borrowed from transformer architectures, this technique uses multiple sets of attention mechanisms simultaneously to diversify the learning and enhance model stability.\n",
        "- **Benefits:** Multi-head attention allows the model to capture various aspects of the data in parallel, improving performance and robustness.\n",
        "\n",
        "Multi-head attention addresses the drawbacks of self-attention by diversifying the attention mechanism:\n",
        "\n",
        "Multiple Embeddings: By calculating multiple sets of attention scores and corresponding embeddings, multi-head attention allows the model to explore different aspects of the data in parallel. Each \"head\" of attention can focus on different relationships in the data, capturing a broader range of features than a single set of attention scores could.\n",
        "\n",
        "Combining Results:\n",
        "Averaging: The outputs from multiple heads are averaged. This method reduces variance in the attention outputs, as it smooths out the extreme values that might be produced by any single attention head.\n",
        "\n",
        "$$ h_i = \\frac{1}{n} \\sum_{k=1}^{n} h_i^k = \\frac{1}{n} \\sum_{k=1}^{n} \\sum_{j \\in N_i} \\alpha_{ij}^k W^k x_j $$\n",
        "\n",
        "Concatenation: Alternatively, the outputs from all heads are concatenated to form a larger feature space. This method preserves the distinct perspectives from each head, enhancing the model’s capacity to represent complex data relationships.\n",
        "\n",
        "$$ h_i = \\|_{k=1}^{n} h_i^k = \\|_{k=1}^{n} \\sum_{j \\in N_i} \\alpha_{ij}^k W^k x_j $$\n"
      ],
      "metadata": {
        "id": "MBKrURA2DmGO"
      }
    },
    {
      "cell_type": "markdown",
      "source": [
        "\n",
        "\n",
        "---\n",
        "\n",
        "\n",
        "\n",
        "---\n",
        "\n"
      ],
      "metadata": {
        "id": "v4kKaYaTm1oA"
      }
    },
    {
      "cell_type": "markdown",
      "source": [
        "## In matrix form:\n",
        "\n",
        "$$ h_i = \\sum_{j \\in \\mathcal{N}_i} \\alpha_{ij} W x_j $$\n",
        "\n",
        "\n",
        "## and the  graph attention layer can be written as\n",
        "$$\n",
        "H = \\tilde{A}^TW_{\\alpha} X W^T\n",
        "$$"
      ],
      "metadata": {
        "id": "LqcJ0M0Um1tH"
      }
    },
    {
      "cell_type": "markdown",
      "source": [
        "## **Implementing Graph Attention in Numpy**"
      ],
      "metadata": {
        "id": "10Dw_LKODmI-"
      }
    },
    {
      "cell_type": "code",
      "source": [
        "import networkx as nx\n",
        "import matplotlib.pyplot as plt\n",
        "import numpy as np"
      ],
      "metadata": {
        "id": "CYVy0BmSnpTk"
      },
      "execution_count": 1,
      "outputs": []
    },
    {
      "cell_type": "markdown",
      "source": [
        "## Example\n",
        "\n",
        "### Considering the following adjacency matrix $ A $;  with self loops version"
      ],
      "metadata": {
        "id": "veMOJ2eUn7ie"
      }
    },
    {
      "cell_type": "code",
      "source": [
        "A = np.array([\n",
        "    [1, 1, 1, 1],\n",
        "    [1, 1, 0, 0],\n",
        "    [1, 0, 1, 1],\n",
        "    [1, 0, 1, 1]\n",
        "])\n"
      ],
      "metadata": {
        "id": "9gchkqdznqDk"
      },
      "execution_count": 2,
      "outputs": []
    },
    {
      "cell_type": "code",
      "source": [
        "# Create a graph from the adjacency matrix\n",
        "G = nx.from_numpy_array(A)\n",
        "mapping = {i: i  for i in range(len(G.nodes))}\n",
        "G = nx.relabel_nodes(G, mapping)\n",
        "\n",
        "# Draw the graph with labels starting from 1\n",
        "plt.figure(figsize=(4, 4))\n",
        "nx.draw(G, with_labels=True, font_color='#ffffff', node_size=1000, node_color=\"#00b4d9\", font_size=15, font_weight='bold', edge_color='gray')\n",
        "plt.title(\"Graph Representation of the Adjacency Matrix A\")\n",
        "plt.show()"
      ],
      "metadata": {
        "colab": {
          "base_uri": "https://localhost:8080/",
          "height": 459
        },
        "id": "--6ZRl8OnqJk",
        "outputId": "51398b39-bd8a-4afc-f817-dea57405137f"
      },
      "execution_count": 3,
      "outputs": [
        {
          "output_type": "display_data",
          "data": {
            "text/plain": [
              "<Figure size 400x400 with 1 Axes>"
            ],
            "image/png": "[encoded data removed]"
          },
          "metadata": {}
        }
      ]
    },
    {
      "cell_type": "markdown",
      "source": [
        "### For feature vector: we generate from a normal distribution using numpy"
      ],
      "metadata": {
        "id": "d-Do_VjNov3T"
      }
    },
    {
      "cell_type": "code",
      "source": [
        "X = np.random.uniform(-1, 1, (4, 4))"
      ],
      "metadata": {
        "id": "uyU4QDRanqMc"
      },
      "execution_count": 4,
      "outputs": []
    },
    {
      "cell_type": "code",
      "source": [
        "X"
      ],
      "metadata": {
        "colab": {
          "base_uri": "https://localhost:8080/"
        },
        "id": "MQDB8REwnqPU",
        "outputId": "b39594c8-0b72-44cc-f314-588d15dde1b9"
      },
      "execution_count": 5,
      "outputs": [
        {
          "output_type": "execute_result",
          "data": {
            "text/plain": [
              "array([[-0.83138904,  0.14795564, -0.58015326,  0.60504443],\n",
              "       [-0.34975839, -0.43945714, -0.16305606, -0.87422746],\n",
              "       [-0.30119075, -0.56359775,  0.68631308,  0.750651  ],\n",
              "       [ 0.33475158, -0.977144  ,  0.0493458 ,  0.03906593]])"
            ]
          },
          "metadata": {},
          "execution_count": 5
        }
      ]
    },
    {
      "cell_type": "markdown",
      "source": [
        "Moving forward, we need to establish the weight matrices that are pivotal in graph attention layers. Specifically, there are two distinct matrices: the standard weight matrix, often denoted as\n",
        "$ W $, and the weight matrix dedicated to attention, denoted as\n",
        "${W}_{att}$ . While various initialization techniques exist, such as Xavier or He initialization, to tailor the matrices to optimize learning, in this instance, we can simply apply a uniform random initialization function for illustrative purposes."
      ],
      "metadata": {
        "id": "4FPudzQGrdBj"
      }
    },
    {
      "cell_type": "code",
      "source": [
        "W = np.random.uniform(-1, 1, (2, 4))\n",
        "W"
      ],
      "metadata": {
        "colab": {
          "base_uri": "https://localhost:8080/"
        },
        "id": "pXTiDG_TnqR1",
        "outputId": "4b791818-2724-4c5a-9630-c7567048b37b"
      },
      "execution_count": 6,
      "outputs": [
        {
          "output_type": "execute_result",
          "data": {
            "text/plain": [
              "array([[ 0.69147076, -0.89047094, -0.53993022,  0.81700251],\n",
              "       [ 0.01727098,  0.74841087,  0.49252491,  0.26758988]])"
            ]
          },
          "metadata": {},
          "execution_count": 6
        }
      ]
    },
    {
      "cell_type": "code",
      "source": [
        "W_att = np.random.uniform(-1, 1, (1, 4))\n",
        "W_att"
      ],
      "metadata": {
        "colab": {
          "base_uri": "https://localhost:8080/"
        },
        "id": "Ffb_Aq8InqXU",
        "outputId": "4f741451-74df-4833-893b-9667d669a127"
      },
      "execution_count": 7,
      "outputs": [
        {
          "output_type": "execute_result",
          "data": {
            "text/plain": [
              "array([[ 0.88761142, -0.20199502,  0.81996747,  0.62586948]])"
            ]
          },
          "metadata": {},
          "execution_count": 7
        }
      ]
    },
    {
      "cell_type": "markdown",
      "source": [
        "## Getting source and destination nodes"
      ],
      "metadata": {
        "id": "xohVqt50r__V"
      }
    },
    {
      "cell_type": "code",
      "source": [
        "connections = np.where(A > 0)\n",
        "connections"
      ],
      "metadata": {
        "colab": {
          "base_uri": "https://localhost:8080/"
        },
        "id": "MMjCOrmtnqZ0",
        "outputId": "b4dfa16d-4911-460c-a79a-a588f9988b8c"
      },
      "execution_count": 8,
      "outputs": [
        {
          "output_type": "execute_result",
          "data": {
            "text/plain": [
              "(array([0, 0, 0, 0, 1, 1, 2, 2, 2, 3, 3, 3]),\n",
              " array([0, 1, 2, 3, 0, 1, 0, 2, 3, 0, 2, 3]))"
            ]
          },
          "metadata": {},
          "execution_count": 8
        }
      ]
    },
    {
      "cell_type": "markdown",
      "source": [
        "## Now, We can concatenate hidden vectors of source and destination nodes"
      ],
      "metadata": {
        "id": "6UTePvLMsYqH"
      }
    },
    {
      "cell_type": "code",
      "source": [
        "np.concatenate([(X @ W.T)[connections[0]], (X @ W.T)[connections[1]]], axis=1)"
      ],
      "metadata": {
        "colab": {
          "base_uri": "https://localhost:8080/"
        },
        "id": "r-7fzjijnqck",
        "outputId": "448f26b1-ae55-490c-ae06-bf6901b90f0f"
      },
      "execution_count": 9,
      "outputs": [
        {
          "output_type": "execute_result",
          "data": {
            "text/plain": [
              "array([[ 0.10093369, -0.02746346,  0.10093369, -0.02746346],\n",
              "       [ 0.10093369, -0.02746346, -0.47673102, -0.64917876],\n",
              "       [ 0.10093369, -0.02746346,  0.5363254 ,  0.11188835],\n",
              "       [ 0.10093369, -0.02746346,  1.10686294, -0.69076603],\n",
              "       [-0.47673102, -0.64917876,  0.10093369, -0.02746346],\n",
              "       [-0.47673102, -0.64917876, -0.47673102, -0.64917876],\n",
              "       [ 0.5363254 ,  0.11188835,  0.10093369, -0.02746346],\n",
              "       [ 0.5363254 ,  0.11188835,  0.5363254 ,  0.11188835],\n",
              "       [ 0.5363254 ,  0.11188835,  1.10686294, -0.69076603],\n",
              "       [ 1.10686294, -0.69076603,  0.10093369, -0.02746346],\n",
              "       [ 1.10686294, -0.69076603,  0.5363254 ,  0.11188835],\n",
              "       [ 1.10686294, -0.69076603,  1.10686294, -0.69076603]])"
            ]
          },
          "metadata": {},
          "execution_count": 9
        }
      ]
    },
    {
      "cell_type": "markdown",
      "source": [
        "### Applying a linear transformation to this result with the attention matrix"
      ],
      "metadata": {
        "id": "mNO70m5l2wjA"
      }
    },
    {
      "cell_type": "code",
      "source": [
        "a = W_att @ np.concatenate([(X @ W.T)[connections[0]], (X @ W.T)[connections[1]]], axis=1).T"
      ],
      "metadata": {
        "id": "ULLZWd5U2wqV"
      },
      "execution_count": 10,
      "outputs": []
    },
    {
      "cell_type": "markdown",
      "source": [
        "## Applying a Leaky ReLU function"
      ],
      "metadata": {
        "id": "bKhymFKn2wxN"
      }
    },
    {
      "cell_type": "code",
      "source": [
        "def leaky_relu(x, alpha=0.2):\n",
        "    return np.maximum(alpha*x, x)\n",
        "\n",
        "e = leaky_relu(a)\n",
        "e"
      ],
      "metadata": {
        "colab": {
          "base_uri": "https://localhost:8080/"
        },
        "id": "-jJufX5p2w39",
        "outputId": "dd76b001-1a27-43b5-b36d-b54c7201cf0a"
      },
      "execution_count": 11,
      "outputs": [
        {
          "output_type": "execute_result",
          "data": {
            "text/plain": [
              "array([[ 0.16071118, -0.14041354,  0.60493426,  0.57039961, -0.04528944,\n",
              "        -0.21784523,  0.51902146,  0.96324454,  0.92870988,  1.18756929,\n",
              "         1.63179237,  1.59725771]])"
            ]
          },
          "metadata": {},
          "execution_count": 11
        }
      ]
    },
    {
      "cell_type": "code",
      "source": [
        "e.shape"
      ],
      "metadata": {
        "colab": {
          "base_uri": "https://localhost:8080/"
        },
        "id": "BqS8wLV83MHA",
        "outputId": "e36cc868-999a-41b3-c68c-27a22249a90e"
      },
      "execution_count": 12,
      "outputs": [
        {
          "output_type": "execute_result",
          "data": {
            "text/plain": [
              "(1, 12)"
            ]
          },
          "metadata": {},
          "execution_count": 12
        }
      ]
    },
    {
      "cell_type": "markdown",
      "source": [
        "### This matrix should resemble $ \\tilde{A} $   since unnormalized attention scores are redundant for node pairs that do not share a connection. We can construct this matrix accurately because the existing connections provide us with the necessary information about the source and destination nodes."
      ],
      "metadata": {
        "id": "teBM4nev2w-F"
      }
    },
    {
      "cell_type": "code",
      "source": [
        "E = np.zeros(A.shape)\n",
        "E[connections[0], connections[1]] = e[0]\n",
        "E"
      ],
      "metadata": {
        "colab": {
          "base_uri": "https://localhost:8080/"
        },
        "id": "wxm16dLy2xEF",
        "outputId": "961541aa-aa5b-40a0-837a-30c5e1b70078"
      },
      "execution_count": 13,
      "outputs": [
        {
          "output_type": "execute_result",
          "data": {
            "text/plain": [
              "array([[ 0.16071118, -0.14041354,  0.60493426,  0.57039961],\n",
              "       [-0.04528944, -0.21784523,  0.        ,  0.        ],\n",
              "       [ 0.51902146,  0.        ,  0.96324454,  0.92870988],\n",
              "       [ 1.18756929,  0.        ,  1.63179237,  1.59725771]])"
            ]
          },
          "metadata": {},
          "execution_count": 13
        }
      ]
    },
    {
      "cell_type": "markdown",
      "source": [
        "\n",
        "### Adjust each row of attention scores to a standard scale by applying a tailored softmax function, which will yield our ultimate attention coefficients."
      ],
      "metadata": {
        "id": "cV1Y8T3i2xJk"
      }
    },
    {
      "cell_type": "code",
      "source": [
        "def softmax2D(x, axis):\n",
        "    e = np.exp(x - np.expand_dims(np.max(x, axis=axis), axis))\n",
        "    sum = np.expand_dims(np.sum(e, axis=axis), axis)\n",
        "    return e / sum\n",
        "\n",
        "W_alpha = softmax2D(E, 1)\n",
        "W_alpha"
      ],
      "metadata": {
        "colab": {
          "base_uri": "https://localhost:8080/"
        },
        "id": "o_G4OHet2xP9",
        "outputId": "cf2d3d62-8b56-4522-dbc9-bca9cb0bb2ab"
      },
      "execution_count": 14,
      "outputs": [
        {
          "output_type": "execute_result",
          "data": {
            "text/plain": [
              "array([[0.20809004, 0.1539836 , 0.32447027, 0.31345609],\n",
              "       [0.25418305, 0.21389792, 0.26595952, 0.26595952],\n",
              "       [0.2145587 , 0.12768444, 0.33455672, 0.32320015],\n",
              "       [0.22880215, 0.06977588, 0.35676623, 0.34465575]])"
            ]
          },
          "metadata": {},
          "execution_count": 14
        }
      ]
    },
    {
      "cell_type": "markdown",
      "source": [
        "\n",
        "The attention matrix\n",
        "$ α  $ assigns weights to every potential link within the network. Utilizing this matrix, we can compute our embedding matrix\n",
        "$ H $, resulting in two-dimensional vector representations for each node."
      ],
      "metadata": {
        "id": "sjETmv_12xV9"
      }
    },
    {
      "cell_type": "code",
      "source": [
        "H = A.T @ W_alpha @ X @ W.T"
      ],
      "metadata": {
        "id": "V7YGsCw62xb1"
      },
      "execution_count": 15,
      "outputs": []
    },
    {
      "cell_type": "code",
      "source": [
        "H"
      ],
      "metadata": {
        "colab": {
          "base_uri": "https://localhost:8080/"
        },
        "id": "r1MvTZx167Yv",
        "outputId": "2c31c55a-b347-402a-ac78-6fdb76e4a2b8"
      },
      "execution_count": 16,
      "outputs": [
        {
          "output_type": "execute_result",
          "data": {
            "text/plain": [
              "array([[ 1.88988813, -1.11003933],\n",
              "       [ 0.82927455, -0.58569489],\n",
              "       [ 1.52918269, -0.81024257],\n",
              "       [ 1.52918269, -0.81024257]])"
            ]
          },
          "metadata": {},
          "execution_count": 16
        }
      ]
    },
    {
      "cell_type": "markdown",
      "source": [
        "Our graph attention layer is fully assembled! To incorporate multi-head attention, we replicate the process using varied instances of weight matrices and attention mechanisms, followed by a combination of their outputs."
      ],
      "metadata": {
        "id": "9fDHIpJQ2xhF"
      }
    },
    {
      "cell_type": "markdown",
      "source": [
        "\n",
        "\n",
        "---\n",
        "\n",
        "\n",
        "\n",
        "---\n",
        "\n"
      ],
      "metadata": {
        "id": "Gn0eO84g6-a4"
      }
    },
    {
      "cell_type": "markdown",
      "source": [
        "## **GAT in PyTorch Geometric** - Working out examples from previous Tutorials"
      ],
      "metadata": {
        "id": "wrE3bb806_s-"
      }
    },
    {
      "cell_type": "code",
      "source": [
        "!pip install -q torch_geometric"
      ],
      "metadata": {
        "colab": {
          "base_uri": "https://localhost:8080/"
        },
        "id": "icbRVKOl-Vic",
        "outputId": "e7fe44c1-dc8b-4b98-94b1-b82edd49b00f"
      },
      "execution_count": 17,
      "outputs": [
        {
          "output_type": "stream",
          "name": "stdout",
          "text": [
            "\u001b[?25l     \u001b[90m━━━━━━━━━━━━━━━━━━━━━━━━━━━━━━━━━━━━━━━━\u001b[0m \u001b[32m0.0/1.1 MB\u001b[0m \u001b[31m?\u001b[0m eta \u001b[36m-:--:--\u001b[0m\r\u001b[2K     \u001b[91m━\u001b[0m\u001b[90m╺\u001b[0m\u001b[90m━━━━━━━━━━━━━━━━━━━━━━━━━━━━━━━━━━━━━━\u001b[0m \u001b[32m0.0/1.1 MB\u001b[0m \u001b[31m977.0 kB/s\u001b[0m eta \u001b[36m0:00:02\u001b[0m\r\u001b[2K     \u001b[91m━━━━━\u001b[0m\u001b[90m╺\u001b[0m\u001b[90m━━━━━━━━━━━━━━━━━━━━━━━━━━━━━━━━━━\u001b[0m \u001b[32m0.1/1.1 MB\u001b[0m \u001b[31m2.0 MB/s\u001b[0m eta \u001b[36m0:00:01\u001b[0m\r\u001b[2K     \u001b[91m━━━━━━━━━━━━━━\u001b[0m\u001b[90m╺\u001b[0m\u001b[90m━━━━━━━━━━━━━━━━━━━━━━━━━\u001b[0m \u001b[32m0.4/1.1 MB\u001b[0m \u001b[31m3.7 MB/s\u001b[0m eta \u001b[36m0:00:01\u001b[0m\r\u001b[2K     \u001b[91m━━━━━━━━━━━━━━━━━━━━━━━━━━━━━━━━\u001b[0m\u001b[90m╺\u001b[0m\u001b[90m━━━━━━━\u001b[0m \u001b[32m0.9/1.1 MB\u001b[0m \u001b[31m6.3 MB/s\u001b[0m eta \u001b[36m0:00:01\u001b[0m\r\u001b[2K     \u001b[90m━━━━━━━━━━━━━━━━━━━━━━━━━━━━━━━━━━━━━━━━\u001b[0m \u001b[32m1.1/1.1 MB\u001b[0m \u001b[31m6.8 MB/s\u001b[0m eta \u001b[36m0:00:00\u001b[0m\n",
            "\u001b[?25h"
          ]
        }
      ]
    },
    {
      "cell_type": "code",
      "source": [
        "from torch_geometric.datasets import Planetoid,FacebookPagePage\n",
        "from torch_geometric.utils import degree\n",
        "from collections import Counter\n",
        "import matplotlib.pyplot as plt"
      ],
      "metadata": {
        "id": "OWk5Kq7a-Vk7"
      },
      "execution_count": 19,
      "outputs": []
    },
    {
      "cell_type": "markdown",
      "source": [
        "**The Cora Dataset**"
      ],
      "metadata": {
        "id": "GdCx2Ctv_QXI"
      }
    },
    {
      "cell_type": "code",
      "source": [
        "# Import dataset from PyTorch Geometric\n",
        "dataset = Planetoid(root=\".\", name=\"Cora\")\n",
        "data = dataset[0]\n",
        "degrees = degree(data.edge_index[0]).numpy()"
      ],
      "metadata": {
        "colab": {
          "base_uri": "https://localhost:8080/"
        },
        "id": "OQGys7i--Vnr",
        "outputId": "0e627643-d4ad-4bd9-f265-088fbfa440ff"
      },
      "execution_count": 20,
      "outputs": [
        {
          "output_type": "stream",
          "name": "stderr",
          "text": [
            "Downloading https://github.com/kimiyoung/planetoid/raw/master/data/ind.cora.x\n",
            "Downloading https://github.com/kimiyoung/planetoid/raw/master/data/ind.cora.tx\n",
            "Downloading https://github.com/kimiyoung/planetoid/raw/master/data/ind.cora.allx\n",
            "Downloading https://github.com/kimiyoung/planetoid/raw/master/data/ind.cora.y\n",
            "Downloading https://github.com/kimiyoung/planetoid/raw/master/data/ind.cora.ty\n",
            "Downloading https://github.com/kimiyoung/planetoid/raw/master/data/ind.cora.ally\n",
            "Downloading https://github.com/kimiyoung/planetoid/raw/master/data/ind.cora.graph\n",
            "Downloading https://github.com/kimiyoung/planetoid/raw/master/data/ind.cora.test.index\n",
            "Processing...\n",
            "Done!\n"
          ]
        }
      ]
    },
    {
      "cell_type": "code",
      "source": [
        "import torch\n",
        "torch.manual_seed(1)\n",
        "import torch.nn.functional as F\n",
        "from torch_geometric.nn import GATv2Conv\n",
        "from torch.nn import Linear, Dropout"
      ],
      "metadata": {
        "id": "oS3L0PIA-Vqb"
      },
      "execution_count": 21,
      "outputs": []
    },
    {
      "cell_type": "code",
      "source": [
        "def accuracy(y_pred, y_true):\n",
        "    \"\"\"Calculate accuracy.\"\"\"\n",
        "    return torch.sum(y_pred == y_true) / len(y_true)"
      ],
      "metadata": {
        "id": "-GUc9l4e-Vsz"
      },
      "execution_count": 22,
      "outputs": []
    },
    {
      "cell_type": "code",
      "source": [
        "class GAT(torch.nn.Module):\n",
        "    def __init__(self, dim_in, dim_h, dim_out, heads=8):\n",
        "        super().__init__()\n",
        "        self.gat1 = GATv2Conv(dim_in, dim_h, heads=heads)\n",
        "        self.gat2 = GATv2Conv(dim_h*heads, dim_out, heads=1)\n",
        "\n",
        "    def forward(self, x, edge_index):\n",
        "        h = F.dropout(x, p=0.6, training=self.training)\n",
        "        h = self.gat1(h, edge_index)\n",
        "        h = F.elu(h)\n",
        "        h = F.dropout(h, p=0.6, training=self.training)\n",
        "        h = self.gat2(h, edge_index)\n",
        "        return F.log_softmax(h, dim=1)\n",
        "\n",
        "    def fit(self, data, epochs):\n",
        "        criterion = torch.nn.CrossEntropyLoss()\n",
        "        optimizer = torch.optim.Adam(self.parameters(), lr=0.01, weight_decay=0.01)\n",
        "\n",
        "        self.train()\n",
        "        for epoch in range(epochs+1):\n",
        "            optimizer.zero_grad()\n",
        "            out = self(data.x, data.edge_index)\n",
        "            loss = criterion(out[data.train_mask], data.y[data.train_mask])\n",
        "            acc = accuracy(out[data.train_mask].argmax(dim=1), data.y[data.train_mask])\n",
        "            loss.backward()\n",
        "            optimizer.step()\n",
        "\n",
        "            if(epoch % 20 == 0):\n",
        "                val_loss = criterion(out[data.val_mask], data.y[data.val_mask])\n",
        "                val_acc = accuracy(out[data.val_mask].argmax(dim=1), data.y[data.val_mask])\n",
        "                print(f'Epoch {epoch:>3} | Train Loss: {loss:.3f} | Train Acc: {acc*100:>5.2f}% | Val Loss: {val_loss:.2f} | Val Acc: {val_acc*100:.2f}%')\n",
        "\n",
        "    @torch.no_grad()\n",
        "    def test(self, data):\n",
        "        self.eval()\n",
        "        out = self(data.x, data.edge_index)\n",
        "        acc = accuracy(out.argmax(dim=1)[data.test_mask], data.y[data.test_mask])\n",
        "        return acc"
      ],
      "metadata": {
        "id": "D0g9eF2d-VyT"
      },
      "execution_count": 23,
      "outputs": []
    },
    {
      "cell_type": "code",
      "source": [
        "# Create the GAT model\n",
        "gat = GAT(dataset.num_features, 16, dataset.num_classes)\n",
        "print(gat)\n",
        "\n",
        "# Train\n",
        "gat.fit(data, epochs=100)\n",
        "\n",
        "# Test\n",
        "acc = gat.test(data)\n",
        "print(f'GAT test accuracy: {acc*100:.2f}%')"
      ],
      "metadata": {
        "colab": {
          "base_uri": "https://localhost:8080/"
        },
        "id": "QtnuYIel-V1D",
        "outputId": "2578cfef-6b11-4cb9-ec3c-10fb9860d895"
      },
      "execution_count": 24,
      "outputs": [
        {
          "output_type": "stream",
          "name": "stdout",
          "text": [
            "GAT(\n",
            "  (gat1): GATv2Conv(1433, 16, heads=8)\n",
            "  (gat2): GATv2Conv(128, 7, heads=1)\n",
            ")\n",
            "Epoch   0 | Train Loss: 1.983 | Train Acc: 12.14% | Val Loss: 1.98 | Val Acc: 10.60%\n",
            "Epoch  20 | Train Loss: 0.186 | Train Acc: 99.29% | Val Loss: 0.87 | Val Acc: 74.20%\n",
            "Epoch  40 | Train Loss: 0.152 | Train Acc: 97.86% | Val Loss: 0.86 | Val Acc: 72.40%\n",
            "Epoch  60 | Train Loss: 0.167 | Train Acc: 97.14% | Val Loss: 0.84 | Val Acc: 76.40%\n",
            "Epoch  80 | Train Loss: 0.144 | Train Acc: 100.00% | Val Loss: 0.82 | Val Acc: 74.40%\n",
            "Epoch 100 | Train Loss: 0.143 | Train Acc: 98.57% | Val Loss: 0.77 | Val Acc: 75.20%\n",
            "GAT test accuracy: 83.30%\n"
          ]
        }
      ]
    },
    {
      "cell_type": "markdown",
      "source": [
        "**The FB Page-Page dataset**"
      ],
      "metadata": {
        "id": "wR_gTV5j_tNM"
      }
    },
    {
      "cell_type": "code",
      "source": [
        "# Import dataset from PyTorch Geometric\n",
        "dataset = FacebookPagePage(root=\".\")\n",
        "data = dataset[0]\n",
        "\n",
        "# Create masks\n",
        "data.train_mask = range(18000)\n",
        "data.val_mask = range(18001, 20000)\n",
        "data.test_mask = range(20001, 22470)"
      ],
      "metadata": {
        "colab": {
          "base_uri": "https://localhost:8080/"
        },
        "id": "d-5OYsiO-V4D",
        "outputId": "c70dd238-b08a-4490-bf90-e3a2ba6b2727"
      },
      "execution_count": 25,
      "outputs": [
        {
          "output_type": "stream",
          "name": "stderr",
          "text": [
            "Downloading https://graphmining.ai/datasets/ptg/facebook.npz\n",
            "Processing...\n",
            "Done!\n"
          ]
        }
      ]
    },
    {
      "cell_type": "code",
      "source": [
        "gat = GAT(dataset.num_features, 32, dataset.num_classes)\n",
        "print(gat)"
      ],
      "metadata": {
        "colab": {
          "base_uri": "https://localhost:8080/"
        },
        "id": "J5AbJqoV-V6z",
        "outputId": "35fd2e68-10eb-4d27-9ecd-3ee3c07ab061"
      },
      "execution_count": 26,
      "outputs": [
        {
          "output_type": "stream",
          "name": "stdout",
          "text": [
            "GAT(\n",
            "  (gat1): GATv2Conv(128, 32, heads=8)\n",
            "  (gat2): GATv2Conv(256, 4, heads=1)\n",
            ")\n"
          ]
        }
      ]
    },
    {
      "cell_type": "code",
      "source": [
        "# Train\n",
        "gat.fit(data, epochs=100)\n",
        "\n",
        "# Test\n",
        "acc = gat.test(data)\n",
        "print(f'GAT test accuracy: {acc*100:.2f}%')"
      ],
      "metadata": {
        "colab": {
          "base_uri": "https://localhost:8080/"
        },
        "id": "J01k9S71-V9j",
        "outputId": "e98e3434-abfc-4b41-e71f-daf6cd97e94a"
      },
      "execution_count": 27,
      "outputs": [
        {
          "output_type": "stream",
          "name": "stdout",
          "text": [
            "Epoch   0 | Train Loss: 1.798 | Train Acc: 27.40% | Val Loss: 1.82 | Val Acc: 26.86%\n",
            "Epoch  20 | Train Loss: 0.364 | Train Acc: 87.23% | Val Loss: 0.36 | Val Acc: 87.29%\n",
            "Epoch  40 | Train Loss: 0.350 | Train Acc: 88.49% | Val Loss: 0.34 | Val Acc: 89.04%\n",
            "Epoch  60 | Train Loss: 0.341 | Train Acc: 88.21% | Val Loss: 0.34 | Val Acc: 88.44%\n",
            "Epoch  80 | Train Loss: 0.331 | Train Acc: 88.91% | Val Loss: 0.33 | Val Acc: 89.39%\n",
            "Epoch 100 | Train Loss: 0.340 | Train Acc: 88.40% | Val Loss: 0.34 | Val Acc: 88.69%\n",
            "GAT test accuracy: 91.45%\n"
          ]
        }
      ]
    },
    {
      "cell_type": "markdown",
      "source": [
        "GAT on the CiteSeer and Pubmed dataset from Tutorial 3"
      ],
      "metadata": {
        "id": "GhzNY7F2CUZG"
      }
    },
    {
      "cell_type": "code",
      "source": [
        "dataset_CSeer = Planetoid(root=\".\", name=\"CiteSeer\")\n",
        "data_graph_CSeer = dataset_CSeer[0] # get the citeseer graph\n",
        "\n",
        "dataset_PM = Planetoid(root=\".\", name=\"PubMed\")\n",
        "data_graph_PM = dataset_PM[0] # the Pubmed graph"
      ],
      "metadata": {
        "colab": {
          "base_uri": "https://localhost:8080/"
        },
        "id": "M4w9jFco-WAT",
        "outputId": "33e92d9c-6c5b-41f8-afbe-2458acd586ef"
      },
      "execution_count": 28,
      "outputs": [
        {
          "output_type": "stream",
          "name": "stderr",
          "text": [
            "Downloading https://github.com/kimiyoung/planetoid/raw/master/data/ind.citeseer.x\n",
            "Downloading https://github.com/kimiyoung/planetoid/raw/master/data/ind.citeseer.tx\n",
            "Downloading https://github.com/kimiyoung/planetoid/raw/master/data/ind.citeseer.allx\n",
            "Downloading https://github.com/kimiyoung/planetoid/raw/master/data/ind.citeseer.y\n",
            "Downloading https://github.com/kimiyoung/planetoid/raw/master/data/ind.citeseer.ty\n",
            "Downloading https://github.com/kimiyoung/planetoid/raw/master/data/ind.citeseer.ally\n",
            "Downloading https://github.com/kimiyoung/planetoid/raw/master/data/ind.citeseer.graph\n",
            "Downloading https://github.com/kimiyoung/planetoid/raw/master/data/ind.citeseer.test.index\n",
            "Processing...\n",
            "Done!\n",
            "Downloading https://github.com/kimiyoung/planetoid/raw/master/data/ind.pubmed.x\n",
            "Downloading https://github.com/kimiyoung/planetoid/raw/master/data/ind.pubmed.tx\n",
            "Downloading https://github.com/kimiyoung/planetoid/raw/master/data/ind.pubmed.allx\n",
            "Downloading https://github.com/kimiyoung/planetoid/raw/master/data/ind.pubmed.y\n",
            "Downloading https://github.com/kimiyoung/planetoid/raw/master/data/ind.pubmed.ty\n",
            "Downloading https://github.com/kimiyoung/planetoid/raw/master/data/ind.pubmed.ally\n",
            "Downloading https://github.com/kimiyoung/planetoid/raw/master/data/ind.pubmed.graph\n",
            "Downloading https://github.com/kimiyoung/planetoid/raw/master/data/ind.pubmed.test.index\n",
            "Processing...\n",
            "Done!\n"
          ]
        }
      ]
    },
    {
      "cell_type": "markdown",
      "source": [
        "**GAT on Citeseer**"
      ],
      "metadata": {
        "id": "lI4GegRRCe6D"
      }
    },
    {
      "cell_type": "code",
      "source": [
        "gat = GAT(dataset_CSeer.num_features, 32, dataset_CSeer.num_classes)\n",
        "print(gat)"
      ],
      "metadata": {
        "colab": {
          "base_uri": "https://localhost:8080/"
        },
        "id": "BFvOubN-CfBb",
        "outputId": "727ee985-b20b-4d0a-ba91-da943ed757c6"
      },
      "execution_count": 29,
      "outputs": [
        {
          "output_type": "stream",
          "name": "stdout",
          "text": [
            "GAT(\n",
            "  (gat1): GATv2Conv(3703, 32, heads=8)\n",
            "  (gat2): GATv2Conv(256, 6, heads=1)\n",
            ")\n"
          ]
        }
      ]
    },
    {
      "cell_type": "code",
      "source": [
        "# Train\n",
        "gat.fit(data_graph_CSeer, epochs=100)"
      ],
      "metadata": {
        "colab": {
          "base_uri": "https://localhost:8080/"
        },
        "id": "g1SN5L0dCfMj",
        "outputId": "6bc8357b-385a-4d43-aea9-8f9128d79092"
      },
      "execution_count": 30,
      "outputs": [
        {
          "output_type": "stream",
          "name": "stdout",
          "text": [
            "Epoch   0 | Train Loss: 1.795 | Train Acc: 20.00% | Val Loss: 1.80 | Val Acc: 18.20%\n",
            "Epoch  20 | Train Loss: 0.178 | Train Acc: 96.67% | Val Loss: 1.21 | Val Acc: 60.80%\n",
            "Epoch  40 | Train Loss: 0.159 | Train Acc: 96.67% | Val Loss: 1.22 | Val Acc: 56.60%\n",
            "Epoch  60 | Train Loss: 0.114 | Train Acc: 100.00% | Val Loss: 1.21 | Val Acc: 60.60%\n",
            "Epoch  80 | Train Loss: 0.109 | Train Acc: 100.00% | Val Loss: 1.25 | Val Acc: 59.80%\n",
            "Epoch 100 | Train Loss: 0.083 | Train Acc: 99.17% | Val Loss: 1.17 | Val Acc: 62.80%\n"
          ]
        }
      ]
    },
    {
      "cell_type": "code",
      "source": [
        "# Test\n",
        "acc = gat.test(data_graph_CSeer)\n",
        "print(f'\\nGAT test accuracy on CiteSeer Dataset: {acc*100:.2f}%\\n')"
      ],
      "metadata": {
        "colab": {
          "base_uri": "https://localhost:8080/"
        },
        "id": "18lfQmmzCfYj",
        "outputId": "0374158b-909f-46e7-bb86-d8c248e70bd1"
      },
      "execution_count": 31,
      "outputs": [
        {
          "output_type": "stream",
          "name": "stdout",
          "text": [
            "\n",
            "GAT test accuracy on CiteSeer Dataset: 68.90%\n",
            "\n"
          ]
        }
      ]
    },
    {
      "cell_type": "code",
      "source": [
        "# @title Model Comparison\n",
        "%%html\n",
        "<table style=\"width:70%; margin-left:auto; margin-right:auto;\" border=\"1\">\n",
        "  <tr style=\"background-color: #f2f2f2;\">\n",
        "    <th style=\"padding: 10px; text-align:center;\">Dataset</th>\n",
        "    <th style=\"padding: 10px; text-align:center;\">MLP (Tutorial 3)</th>\n",
        "    <th style=\"padding: 10px; text-align:center;\">Vanilla GNN (Tutorial 3)</th>\n",
        "    <th style=\"padding: 10px; text-align:center;\">GCN (Tutorial 4)</th>\n",
        "    <th style=\"padding: 10px; text-align:center;\">GAT </th>\n",
        "  </tr>\n",
        "  <tr>\n",
        "    <td style=\"padding: 10px; text-align:center;\">Cora</td>\n",
        "    <td style=\"padding: 10px; text-align:center;\">53.40%</td>\n",
        "    <td style=\"padding: 10px; text-align:center;\">75.00%</td>\n",
        "    <td style=\"padding: 10px; text-align:center;\">80.60%</td>\n",
        "    <td style=\"padding: 10px; text-align:center;\">83.30%</td>\n",
        "  </tr>\n",
        "  <tr style=\"background-color: #f9f9f9;\">\n",
        "    <td style=\"padding: 10px; text-align:center;\">Facebook Page-Page</td>\n",
        "    <td style=\"padding: 10px; text-align:center;\">75.13%</td>\n",
        "    <td style=\"padding: 10px; text-align:center;\">82.67%</td>\n",
        "    <td style=\"padding: 10px; text-align:center;\">91.21%</td>\n",
        "    <td style=\"padding: 10px; text-align:center;\">91.45%</td>\n",
        "  </tr>\n",
        "  <tr>\n",
        "    <td style=\"padding: 10px; text-align:center;\">CiteSeer</td>\n",
        "    <td style=\"padding: 10px; text-align:center;\">52.70%</td>\n",
        "    <td style=\"padding: 10px; text-align:center;\">65.50%</td>\n",
        "    <td style=\"padding: 10px; text-align:center;\">68.10%</td>\n",
        "    <td style=\"padding: 10px; text-align:center;\">68.90%</td>\n",
        "  </tr>\n",
        "</table>"
      ],
      "metadata": {
        "colab": {
          "base_uri": "https://localhost:8080/",
          "height": 186
        },
        "id": "4kLa23BXEXB3",
        "outputId": "2f622afe-4983-4816-d07c-cf12a39bc166"
      },
      "execution_count": 32,
      "outputs": [
        {
          "output_type": "display_data",
          "data": {
            "text/plain": [
              "<IPython.core.display.HTML object>"
            ],
            "text/html": [
              "<table style=\"width:70%; margin-left:auto; margin-right:auto;\" border=\"1\">\n",
              "  <tr style=\"background-color: #f2f2f2;\">\n",
              "    <th style=\"padding: 10px; text-align:center;\">Dataset</th>\n",
              "    <th style=\"padding: 10px; text-align:center;\">MLP (Tutorial 3)</th>\n",
              "    <th style=\"padding: 10px; text-align:center;\">Vanilla GNN (Tutorial 3)</th>\n",
              "    <th style=\"padding: 10px; text-align:center;\">GCN (Tutorial 4)</th>\n",
              "    <th style=\"padding: 10px; text-align:center;\">GAT </th>\n",
              "  </tr>\n",
              "  <tr>\n",
              "    <td style=\"padding: 10px; text-align:center;\">Cora</td>\n",
              "    <td style=\"padding: 10px; text-align:center;\">53.40%</td>\n",
              "    <td style=\"padding: 10px; text-align:center;\">75.00%</td>\n",
              "    <td style=\"padding: 10px; text-align:center;\">80.60%</td>\n",
              "    <td style=\"padding: 10px; text-align:center;\">83.30%</td>\n",
              "  </tr>\n",
              "  <tr style=\"background-color: #f9f9f9;\">\n",
              "    <td style=\"padding: 10px; text-align:center;\">Facebook Page-Page</td>\n",
              "    <td style=\"padding: 10px; text-align:center;\">75.13%</td>\n",
              "    <td style=\"padding: 10px; text-align:center;\">82.67%</td>\n",
              "    <td style=\"padding: 10px; text-align:center;\">91.21%</td>\n",
              "    <td style=\"padding: 10px; text-align:center;\">91.45%</td>\n",
              "  </tr>\n",
              "  <tr>\n",
              "    <td style=\"padding: 10px; text-align:center;\">CiteSeer</td>\n",
              "    <td style=\"padding: 10px; text-align:center;\">52.70%</td>\n",
              "    <td style=\"padding: 10px; text-align:center;\">65.50%</td>\n",
              "    <td style=\"padding: 10px; text-align:center;\">68.10%</td>\n",
              "    <td style=\"padding: 10px; text-align:center;\">68.90%</td>\n",
              "  </tr>\n",
              "</table>\n"
            ]
          },
          "metadata": {}
        }
      ]
    },
    {
      "cell_type": "markdown",
      "source": [
        "## **Node Regression**"
      ],
      "metadata": {
        "id": "PlFIDPKpH6e7"
      }
    },
    {
      "cell_type": "markdown",
      "source": [
        "**Refer to Tutorial 4 for details of the Wikipedia Dataset**"
      ],
      "metadata": {
        "id": "8Hf8yngYPC2T"
      }
    },
    {
      "cell_type": "code",
      "source": [
        "from torch_geometric.datasets import WikipediaNetwork\n",
        "import torch_geometric.transforms as T"
      ],
      "metadata": {
        "id": "3aS9ApwmIAJU"
      },
      "execution_count": 33,
      "outputs": []
    },
    {
      "cell_type": "code",
      "source": [
        "dataset = WikipediaNetwork(root=\".\", name=\"chameleon\", transform = T.RandomNodeSplit(num_val=200, num_test=500))"
      ],
      "metadata": {
        "colab": {
          "base_uri": "https://localhost:8080/"
        },
        "id": "CFbEM4VrICTS",
        "outputId": "d739d0b4-942a-468c-ab5b-20f655596707"
      },
      "execution_count": 34,
      "outputs": [
        {
          "output_type": "stream",
          "name": "stderr",
          "text": [
            "Downloading https://raw.githubusercontent.com/graphdml-uiuc-jlu/geom-gcn/f1fc0d14b3b019c562737240d06ec83b07d16a8f/new_data/chameleon/out1_node_feature_label.txt\n",
            "Downloading https://raw.githubusercontent.com/graphdml-uiuc-jlu/geom-gcn/f1fc0d14b3b019c562737240d06ec83b07d16a8f/new_data/chameleon/out1_graph_edges.txt\n",
            "Downloading https://raw.githubusercontent.com/graphdml-uiuc-jlu/geom-gcn/f1fc0d14b3b019c562737240d06ec83b07d16a8f/splits/chameleon_split_0.6_0.2_0.npz\n",
            "Downloading https://raw.githubusercontent.com/graphdml-uiuc-jlu/geom-gcn/f1fc0d14b3b019c562737240d06ec83b07d16a8f/splits/chameleon_split_0.6_0.2_1.npz\n",
            "Downloading https://raw.githubusercontent.com/graphdml-uiuc-jlu/geom-gcn/f1fc0d14b3b019c562737240d06ec83b07d16a8f/splits/chameleon_split_0.6_0.2_2.npz\n",
            "Downloading https://raw.githubusercontent.com/graphdml-uiuc-jlu/geom-gcn/f1fc0d14b3b019c562737240d06ec83b07d16a8f/splits/chameleon_split_0.6_0.2_3.npz\n",
            "Downloading https://raw.githubusercontent.com/graphdml-uiuc-jlu/geom-gcn/f1fc0d14b3b019c562737240d06ec83b07d16a8f/splits/chameleon_split_0.6_0.2_4.npz\n",
            "Downloading https://raw.githubusercontent.com/graphdml-uiuc-jlu/geom-gcn/f1fc0d14b3b019c562737240d06ec83b07d16a8f/splits/chameleon_split_0.6_0.2_5.npz\n",
            "Downloading https://raw.githubusercontent.com/graphdml-uiuc-jlu/geom-gcn/f1fc0d14b3b019c562737240d06ec83b07d16a8f/splits/chameleon_split_0.6_0.2_6.npz\n",
            "Downloading https://raw.githubusercontent.com/graphdml-uiuc-jlu/geom-gcn/f1fc0d14b3b019c562737240d06ec83b07d16a8f/splits/chameleon_split_0.6_0.2_7.npz\n",
            "Downloading https://raw.githubusercontent.com/graphdml-uiuc-jlu/geom-gcn/f1fc0d14b3b019c562737240d06ec83b07d16a8f/splits/chameleon_split_0.6_0.2_8.npz\n",
            "Downloading https://raw.githubusercontent.com/graphdml-uiuc-jlu/geom-gcn/f1fc0d14b3b019c562737240d06ec83b07d16a8f/splits/chameleon_split_0.6_0.2_9.npz\n",
            "Processing...\n",
            "Done!\n"
          ]
        }
      ]
    },
    {
      "cell_type": "code",
      "source": [
        "data = dataset[0]"
      ],
      "metadata": {
        "id": "UC9pUtABIEOr"
      },
      "execution_count": 61,
      "outputs": []
    },
    {
      "cell_type": "code",
      "source": [
        "import torch\n",
        "\n",
        "if torch.cuda.is_available():\n",
        "    device = torch.device(\"cuda\")\n",
        "    print(\"CUDA is available. Using GPU.\")\n",
        "else:\n",
        "    device = torch.device(\"cpu\")\n",
        "    print(\"CUDA not available. Using CPU.\")"
      ],
      "metadata": {
        "colab": {
          "base_uri": "https://localhost:8080/"
        },
        "id": "gOJyQrMYNNrB",
        "outputId": "028e8832-fdc2-4c32-cc25-3938e41679ad"
      },
      "execution_count": 62,
      "outputs": [
        {
          "output_type": "stream",
          "name": "stdout",
          "text": [
            "CUDA is available. Using GPU.\n"
          ]
        }
      ]
    },
    {
      "cell_type": "code",
      "source": [
        "data.to(device)"
      ],
      "metadata": {
        "colab": {
          "base_uri": "https://localhost:8080/"
        },
        "id": "CpG8d8DnNLtB",
        "outputId": "a87e6f4b-c27d-4e30-de1d-17a573477ecf"
      },
      "execution_count": 63,
      "outputs": [
        {
          "output_type": "execute_result",
          "data": {
            "text/plain": [
              "Data(x=[2277, 2325], edge_index=[2, 36101], y=[2277], train_mask=[2277], val_mask=[2277], test_mask=[2277])"
            ]
          },
          "metadata": {},
          "execution_count": 63
        }
      ]
    },
    {
      "cell_type": "code",
      "source": [
        "# Print information about the dataset\n",
        "print(f'Dataset: {dataset}')\n",
        "print('-------------------')\n",
        "print(f'Number of graphs: {len(dataset)}')\n",
        "print(f'Number of nodes: {data.x.shape[0]}')\n",
        "print(f'Number of unique features: {dataset.num_features}')\n",
        "print(f'Number of classes: {dataset.num_classes}')\n",
        "\n",
        "# Print information about the graph\n",
        "print(f'\\nGraph:')\n",
        "print('------')\n",
        "print(f'Edges are directed: {data.is_directed()}')\n",
        "print(f'Graph has isolated nodes: {data.has_isolated_nodes()}')\n",
        "print(f'Graph has loops: {data.has_self_loops()}')"
      ],
      "metadata": {
        "colab": {
          "base_uri": "https://localhost:8080/"
        },
        "id": "pTUKG5JKIERD",
        "outputId": "41df0d9f-53df-4934-f864-357e031732f1"
      },
      "execution_count": 64,
      "outputs": [
        {
          "output_type": "stream",
          "name": "stdout",
          "text": [
            "Dataset: WikipediaNetwork()\n",
            "-------------------\n",
            "Number of graphs: 1\n",
            "Number of nodes: 2277\n",
            "Number of unique features: 2325\n",
            "Number of classes: 5\n",
            "\n",
            "Graph:\n",
            "------\n",
            "Edges are directed: True\n",
            "Graph has isolated nodes: False\n",
            "Graph has loops: True\n"
          ]
        }
      ]
    },
    {
      "cell_type": "code",
      "source": [
        "from io import BytesIO\n",
        "from urllib.request import urlopen\n",
        "from zipfile import ZipFile\n",
        "\n",
        "url = 'https://snap.stanford.edu/data/wikipedia.zip'\n",
        "with urlopen(url) as zurl:\n",
        "    with ZipFile(BytesIO(zurl.read())) as zfile:\n",
        "        zfile.extractall('.')"
      ],
      "metadata": {
        "id": "kAD3TuX4IETi"
      },
      "execution_count": 65,
      "outputs": []
    },
    {
      "cell_type": "code",
      "source": [
        "import pandas as pd\n",
        "import torch\n",
        "df = pd.read_csv('/content/wikipedia/chameleon/musae_chameleon_target.csv')\n",
        "values = np.log10(df['target'])\n",
        "data.y = torch.tensor(values)\n",
        "data.y"
      ],
      "metadata": {
        "colab": {
          "base_uri": "https://localhost:8080/"
        },
        "id": "eQbqAvzaIEYs",
        "outputId": "3dd0fa8e-8f0c-449e-85db-ffa423246313"
      },
      "execution_count": 66,
      "outputs": [
        {
          "output_type": "execute_result",
          "data": {
            "text/plain": [
              "tensor([2.2330, 3.9079, 3.9329,  ..., 1.9956, 4.3598, 2.4409],\n",
              "       dtype=torch.float64)"
            ]
          },
          "metadata": {},
          "execution_count": 66
        }
      ]
    },
    {
      "cell_type": "code",
      "source": [
        "device"
      ],
      "metadata": {
        "colab": {
          "base_uri": "https://localhost:8080/"
        },
        "id": "U8o6dc9RNV2f",
        "outputId": "1eaea6eb-d455-46e0-e51c-f7aeacc45361"
      },
      "execution_count": 67,
      "outputs": [
        {
          "output_type": "execute_result",
          "data": {
            "text/plain": [
              "device(type='cuda')"
            ]
          },
          "metadata": {},
          "execution_count": 67
        }
      ]
    },
    {
      "cell_type": "code",
      "source": [
        "# Assuming 'data' is an object or dictionary containing 'x', 'y', and masks\n",
        "# data.x = data.x.to(device)\n",
        "data.y = data.y.to(device)\n",
        "# data.train_mask = data.train_mask.to(device)\n",
        "# data.val_mask = data.val_mask.to(device)"
      ],
      "metadata": {
        "id": "S7hr_1JLIEbT"
      },
      "execution_count": 68,
      "outputs": []
    },
    {
      "cell_type": "code",
      "source": [
        "data.y = data.y.to(torch.float32).flatten().unsqueeze(1)"
      ],
      "metadata": {
        "id": "oDNR-5csIEdr"
      },
      "execution_count": 69,
      "outputs": []
    },
    {
      "cell_type": "code",
      "source": [
        "data.y.shape"
      ],
      "metadata": {
        "colab": {
          "base_uri": "https://localhost:8080/"
        },
        "id": "VmW9_v7pIEiz",
        "outputId": "f34d7ec7-ce8a-4cfc-d314-86e0165e0b82"
      },
      "execution_count": 70,
      "outputs": [
        {
          "output_type": "execute_result",
          "data": {
            "text/plain": [
              "torch.Size([2277, 1])"
            ]
          },
          "metadata": {},
          "execution_count": 70
        }
      ]
    },
    {
      "cell_type": "code",
      "source": [
        "from sklearn.metrics import mean_squared_error, mean_absolute_error"
      ],
      "metadata": {
        "id": "Z0X8O68dIElb"
      },
      "execution_count": 43,
      "outputs": []
    },
    {
      "cell_type": "markdown",
      "source": [
        "## **GAT on Wikipedia Chamelon Dataset**"
      ],
      "metadata": {
        "id": "ub9XEvLCIh3e"
      }
    },
    {
      "cell_type": "code",
      "source": [
        "class GATreg(torch.nn.Module):\n",
        "    def __init__(self, dim_in, dim_h, dim_out):\n",
        "        super().__init__()\n",
        "        self.gat1 = GATv2Conv(dim_in, dim_h*4)\n",
        "        self.gat2 = GATv2Conv(dim_h*4, dim_h*2)\n",
        "        self.gat3 = GATv2Conv(dim_h*2, dim_h)\n",
        "        self.linear = torch.nn.Linear(dim_h, dim_out)\n",
        "\n",
        "    def forward(self, x, edge_index):\n",
        "        h = self.gat1(x, edge_index)\n",
        "        h = torch.relu(h)\n",
        "        h = F.dropout(h, p=0.5, training=self.training)\n",
        "        h = self.gat2(h, edge_index)\n",
        "        h = torch.relu(h)\n",
        "        h = F.dropout(h, p=0.5, training=self.training)\n",
        "        h = self.gat3(h, edge_index)\n",
        "        h = torch.relu(h)\n",
        "        h = self.linear(h)\n",
        "        return h\n",
        "\n",
        "    def fit(self, data, epochs):\n",
        "        optimizer = torch.optim.Adam(self.parameters(),lr=0.02,weight_decay=5e-4)\n",
        "\n",
        "        self.train()\n",
        "        for epoch in range(epochs+1):\n",
        "            optimizer.zero_grad()\n",
        "            out = self(data.x, data.edge_index)\n",
        "            loss = F.mse_loss(out.squeeze()[data.train_mask], data.y[data.train_mask].float())\n",
        "            loss.backward()\n",
        "            optimizer.step()\n",
        "            if epoch % 20 == 0:\n",
        "                val_loss = F.mse_loss(out.squeeze()[data.val_mask], data.y[data.val_mask])\n",
        "                print(f\"Epoch {epoch:>3} | Train Loss: {loss:.5f} | Val Loss: {val_loss:.5f}\")\n",
        "\n",
        "    def test(self, data):\n",
        "        self.eval()\n",
        "        out = self(data.x, data.edge_index)\n",
        "        return F.mse_loss(out.squeeze()[data.test_mask], data.y[data.test_mask].float())"
      ],
      "metadata": {
        "id": "RsPsIG3oIgB3"
      },
      "execution_count": 71,
      "outputs": []
    },
    {
      "cell_type": "code",
      "source": [
        "data.y.shape"
      ],
      "metadata": {
        "colab": {
          "base_uri": "https://localhost:8080/"
        },
        "id": "zfEaRlOmIgEe",
        "outputId": "4d9802da-276f-4a04-8600-05b1ac487130"
      },
      "execution_count": 72,
      "outputs": [
        {
          "output_type": "execute_result",
          "data": {
            "text/plain": [
              "torch.Size([2277, 1])"
            ]
          },
          "metadata": {},
          "execution_count": 72
        }
      ]
    },
    {
      "cell_type": "code",
      "source": [
        "data.y = data.y.to(torch.float32).flatten()"
      ],
      "metadata": {
        "id": "K_Tv-0r8IgHG"
      },
      "execution_count": 73,
      "outputs": []
    },
    {
      "cell_type": "code",
      "source": [
        "# Create the Vanilla GNN model\n",
        "gat = GATreg(dataset.num_features, 256, 1).to(device)\n",
        "print(gat)"
      ],
      "metadata": {
        "colab": {
          "base_uri": "https://localhost:8080/"
        },
        "id": "jDoB1ZdLIgJt",
        "outputId": "8691381e-3f54-4615-f400-73c51b768a2c"
      },
      "execution_count": 94,
      "outputs": [
        {
          "output_type": "stream",
          "name": "stdout",
          "text": [
            "GATreg(\n",
            "  (gat1): GATv2Conv(2325, 1024, heads=1)\n",
            "  (gat2): GATv2Conv(1024, 512, heads=1)\n",
            "  (gat3): GATv2Conv(512, 256, heads=1)\n",
            "  (linear): Linear(in_features=256, out_features=1, bias=True)\n",
            ")\n"
          ]
        }
      ]
    },
    {
      "cell_type": "code",
      "source": [
        "gat.to(device)"
      ],
      "metadata": {
        "colab": {
          "base_uri": "https://localhost:8080/"
        },
        "id": "btWlFEPzMzyW",
        "outputId": "e52a2673-9290-47d9-c2f0-ad7313e2e5d3"
      },
      "execution_count": 95,
      "outputs": [
        {
          "output_type": "execute_result",
          "data": {
            "text/plain": [
              "GATreg(\n",
              "  (gat1): GATv2Conv(2325, 1024, heads=1)\n",
              "  (gat2): GATv2Conv(1024, 512, heads=1)\n",
              "  (gat3): GATv2Conv(512, 256, heads=1)\n",
              "  (linear): Linear(in_features=256, out_features=1, bias=True)\n",
              ")"
            ]
          },
          "metadata": {},
          "execution_count": 95
        }
      ]
    },
    {
      "cell_type": "code",
      "source": [
        "data.x = data.x.to(device)\n",
        "data.y = data.y.to(device)\n",
        "data.train_mask = data.train_mask.to(device)\n",
        "data.val_mask = data.val_mask.to(device)"
      ],
      "metadata": {
        "id": "WEC2bqclM_m4"
      },
      "execution_count": 96,
      "outputs": []
    },
    {
      "cell_type": "code",
      "source": [
        "# Train\n",
        "gat.fit(data, epochs=200)"
      ],
      "metadata": {
        "colab": {
          "base_uri": "https://localhost:8080/"
        },
        "id": "ygUUEj89IgOW",
        "outputId": "94c35b59-da40-4c21-f1ea-b95bdbf09cec"
      },
      "execution_count": 97,
      "outputs": [
        {
          "output_type": "stream",
          "name": "stdout",
          "text": [
            "Epoch   0 | Train Loss: 11.74721 | Val Loss: 11.38480\n",
            "Epoch  20 | Train Loss: 4.39063 | Val Loss: 3.70110\n",
            "Epoch  40 | Train Loss: 1.01277 | Val Loss: 1.66626\n",
            "Epoch  60 | Train Loss: 2.81941 | Val Loss: 1.10955\n",
            "Epoch  80 | Train Loss: 0.47918 | Val Loss: 0.66514\n",
            "Epoch 100 | Train Loss: 0.36154 | Val Loss: 0.68024\n",
            "Epoch 120 | Train Loss: 0.40567 | Val Loss: 0.74111\n",
            "Epoch 140 | Train Loss: 0.34980 | Val Loss: 0.76104\n",
            "Epoch 160 | Train Loss: 0.43728 | Val Loss: 0.76894\n",
            "Epoch 180 | Train Loss: 0.31224 | Val Loss: 0.64963\n",
            "Epoch 200 | Train Loss: 0.30172 | Val Loss: 0.68591\n"
          ]
        }
      ]
    },
    {
      "cell_type": "code",
      "source": [
        "# Test\n",
        "loss = gat.test(data)\n",
        "print(f'\\nGAT test loss: {loss:.5f}\\n')"
      ],
      "metadata": {
        "colab": {
          "base_uri": "https://localhost:8080/"
        },
        "id": "w9-4owF-NjRr",
        "outputId": "35b8dcb3-9504-4367-ed5c-ef787d8b860b"
      },
      "execution_count": 98,
      "outputs": [
        {
          "output_type": "stream",
          "name": "stdout",
          "text": [
            "\n",
            "GAT test loss: 0.50959\n",
            "\n"
          ]
        }
      ]
    },
    {
      "cell_type": "code",
      "source": [
        "out = gat(data.x, data.edge_index)"
      ],
      "metadata": {
        "id": "wDBaRykBIgTm"
      },
      "execution_count": 99,
      "outputs": []
    },
    {
      "cell_type": "code",
      "source": [
        "out = out.cpu()"
      ],
      "metadata": {
        "id": "qR08P0rVJJ7P"
      },
      "execution_count": 100,
      "outputs": []
    },
    {
      "cell_type": "code",
      "source": [
        "y_pred = out.squeeze()[data.test_mask.cpu()].detach().numpy()"
      ],
      "metadata": {
        "id": "WWOExY85JJ91"
      },
      "execution_count": 101,
      "outputs": []
    },
    {
      "cell_type": "code",
      "source": [
        "mse = mean_squared_error(data.y[data.test_mask].squeeze().cpu(), y_pred)\n",
        "mae = mean_absolute_error(data.y[data.test_mask].squeeze().cpu(), y_pred)"
      ],
      "metadata": {
        "id": "OgcWD_-HJKAN"
      },
      "execution_count": 102,
      "outputs": []
    },
    {
      "cell_type": "code",
      "source": [
        "print('=' * 13 + '  GAT Wikipedia Chameleon Dataset  ' + '=' * 13)\n",
        "print(f'MSE = {mse:.4f} | RMSE = {np.sqrt(mse):.4f} | MAE = {mae:.4f}')\n",
        "print('=' * 57)"
      ],
      "metadata": {
        "colab": {
          "base_uri": "https://localhost:8080/"
        },
        "id": "2e32uT4_JKCh",
        "outputId": "d94b8e2a-a32a-4473-bed9-396976a12f87"
      },
      "execution_count": 103,
      "outputs": [
        {
          "output_type": "stream",
          "name": "stdout",
          "text": [
            "=============  GAT Wikipedia Chameleon Dataset  =============\n",
            "MSE = 0.5096 | RMSE = 0.7139 | MAE = 0.5634\n",
            "=========================================================\n"
          ]
        }
      ]
    },
    {
      "cell_type": "markdown",
      "source": [
        "| Model & Dataset                          | MSE  ⬇  | RMSE  ⬇ | MAE  ⬇  |\n",
        "|------------------------------------------|--------|--------|--------|\n",
        "| **MLP** on Wikipedia Chameleon Dataset       | 1.0280 | 1.0139 | 0.7373 |\n",
        "| **GCN** on Wikipedia Chameleon Dataset        | 0.5947 | 0.7711 | 0.6059 |\n",
        "| **GAT** on Wikipedia Chameleon Dataset        | 0.5096 | 0.7139 | 0.5634 |"
      ],
      "metadata": {
        "id": "onmMNQtzJXXZ"
      }
    },
    {
      "cell_type": "markdown",
      "source": [
        "**Thank you!**"
      ],
      "metadata": {
        "id": "JrXs3-LROyaJ"
      }
    }
  ]
}