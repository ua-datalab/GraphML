{
  "nbformat": 4,
  "nbformat_minor": 0,
  "metadata": {
    "colab": {
      "provenance": [],
      "gpuType": "T4",
      "authorship_tag": "ABX9TyOgtoevf2/DRuQ1qg6CbIaB",
      "include_colab_link": true
    },
    "kernelspec": {
      "name": "python3",
      "display_name": "Python 3"
    },
    "language_info": {
      "name": "python"
    },
    "accelerator": "GPU"
  },
  "cells": [
    {
      "cell_type": "markdown",
      "metadata": {
        "id": "view-in-github",
        "colab_type": "text"
      },
      "source": [
        "<a href=\"https://colab.research.google.com/github/ua-datalab/GraphML/blob/main/04_22_GraphML_Lecture04.ipynb\" target=\"_parent\"><img src=\"https://colab.research.google.com/assets/colab-badge.svg\" alt=\"Open In Colab\"/></a>"
      ]
    },
    {
      "cell_type": "markdown",
      "source": [
        "# **Introduction to Graph Convolutional Networks (GCNs)**"
      ],
      "metadata": {
        "id": "S58LwTH0V0ib"
      }
    },
    {
      "cell_type": "markdown",
      "source": [
        "### **Before we start, change the Runtime to T4**"
      ],
      "metadata": {
        "id": "hATpWGOiBmyU"
      }
    },
    {
      "cell_type": "markdown",
      "source": [
        "\n",
        "### In this tutorial, we will explore Graph Convolutional Networks (GCNs), a powerful tool for dealing with data structured as graphs. We'll start with an understanding of convolution in traditional settings, explain how GCNs adapt this to graph data, and discuss the advantages of GCNs over simpler models. Lastly, we'll touch on some applications of GCNs across various fields."
      ],
      "metadata": {
        "id": "8eM1hF1gV4Qr"
      }
    },
    {
      "cell_type": "markdown",
      "source": [
        "## **What is a Convolution?**\n",
        "\n",
        "### In traditional signal processing, convolution is a mathematical operation on two functions that produces a third function expressing how the shape of one is modified by the other. In the context of deep learning, especially in convolutional neural networks (CNNs) used for image processing, convolution operates by sliding a filter (kernel) across the image and computing the dot product of the filter with the image regions it covers."
      ],
      "metadata": {
        "id": "MwhW70vEV4TT"
      }
    },
    {
      "cell_type": "markdown",
      "source": [
        "### Mathematical Representation"
      ],
      "metadata": {
        "id": "WZR8hRu3V4V-"
      }
    },
    {
      "cell_type": "markdown",
      "source": [
        "### For a discrete function \\( f \\) (e.g., an image) and a filter \\( g \\), convolution is defined as:\n",
        "\n",
        "$$\n",
        "(f * g)[t] = \\sum_{\\tau=-\\infty}^{\\infty} f[\\tau] \\cdot g[t - \\tau]\n",
        "$$\n",
        "\n",
        "\n",
        "### In CNNs, this operation helps in detecting features such as edges and textures by applying various filters to the input image.\n"
      ],
      "metadata": {
        "id": "IeJAEyFAV4YU"
      }
    },
    {
      "cell_type": "markdown",
      "source": [
        "## **What is a Graph Convolutional Network (GCN)?**\n",
        "\n",
        "### Graphs, consisting of nodes (vertices) and edges (connections), pose a unique challenge for the convolution operation due to their irregular structure. GCNs address this by redefining convolution for graph data."
      ],
      "metadata": {
        "id": "nedKTgWiV4bK"
      }
    },
    {
      "cell_type": "markdown",
      "source": [
        "\n",
        "\n",
        "\n",
        "\n",
        "\n",
        "$$\n",
        "H^{(l+1)} = \\sigma \\left( \\tilde{D}^{-\\frac{1}{2}} \\tilde{A} \\tilde{D}^{-\\frac{1}{2}} H^{(l)} W^{(l)} \\right)\n",
        "$$\n",
        "\n",
        "where:\n",
        "- $ \\tilde{A} = A + I $ — the adjacency matrix $ A $ with added self-connections $ I $ (identity matrix).\n",
        "- $ \\tilde{D} $ is the degree matrix of $ \\tilde{A} $, with $ \\tilde{D}_{ii} = \\sum_j \\tilde{A}_{ij} $.\n",
        "- $ H^{(l)} $ represents the node features at layer $ l $.\n",
        "- $ W^{(l)} $ is the weight matrix for layer \\( l \\).\n",
        "- $ \\sigma $ is a non-linear activation function, such as ReLU.\n"
      ],
      "metadata": {
        "id": "J-dy8O4EV4dT"
      }
    },
    {
      "cell_type": "markdown",
      "source": [
        "#### Step-by-Step Breakdown:\n",
        "\n",
        "1. **Adjacency Matrix with Self-Connections:**\n",
        "   - $  \\tilde{A} = A + I  $\n",
        "   - Here, $A $ is the original adjacency matrix of the graph, and $ I $ is the identity matrix. Adding $ I $ incorporates self-loops, allowing each node to consider its own features along with its neighbors' features.\n",
        "\n",
        "2. **Degree Matrix of $ \\tilde{A} $:**\n",
        "   - $ \\tilde{D} $ is calculated as the degree matrix of $ \\tilde{A} $.\n",
        "   - $ \\tilde{D}_{ii} = \\sum_j \\tilde{A}_{ij} $\n",
        "   - This matrix is diagonal, where each entry $ \\tilde{D}_{ii} $ is the sum of the weights of all edges connected to node $ i $, including the self-loop.\n",
        "\n",
        "3. **Normalized Adjacency Matrix:**\n",
        "   - The term $ \\tilde{D}^{-\\frac{1}{2}} \\tilde{A} \\tilde{D}^{-\\frac{1}{2}} $ represents the normalization of $ \\tilde{A} $ by $ \\tilde{D} $.\n",
        "   - This normalization balances the influence of high-degree and low-degree nodes, making the model less sensitive to variations in node degree.\n",
        "\n",
        "4. **Feature Matrix at Layer $ l $:**\n",
        "   - $ H^{(l)} $\n",
        "   - Represents the matrix of node features at the $ l $-th layer. Each row corresponds to a node's features.\n",
        "\n",
        "5. **Weight Matrix for Layer $ l $:**\n",
        "   - $ W^{(l)} $\n",
        "   - This is a learnable parameter matrix that transforms node features from one layer to the next.\n",
        "\n",
        "6. **Activation Function:**\n",
        "   - $ \\sigma $\n",
        "   - A non-linear activation function like ReLU (Rectified Linear Unit). This function is applied element-wise to the result of the matrix multiplication, introducing non-linearity into the model, which helps the network learn complex patterns.\n",
        "\n"
      ],
      "metadata": {
        "id": "OcZOCKAvbYxh"
      }
    },
    {
      "cell_type": "markdown",
      "source": [
        "### **How It All Comes Together:**\n",
        "\n",
        "- The normalized adjacency matrix $ \\tilde{D}^{-\\frac{1}{2}} \\tilde{A} \\tilde{D}^{-\\frac{1}{2}} $ multiplies the feature matrix $ H^{(l)} $, effectively aggregating and normalizing the features from each node’s neighbors.\n",
        "- The result is then multiplied by the weight matrix $ W^{(l)} $, which transforms the features into a new feature space.\n",
        "- Finally, the activation function $ \\sigma $ is applied to introduce non-linearity and to generate the output $ H^{(l+1)} $, which serves as the input for the next layer or as the final output of the network if it is the last layer.\n"
      ],
      "metadata": {
        "id": "YgQZebT0bY0B"
      }
    },
    {
      "cell_type": "markdown",
      "source": [
        "### **GCN vs. Vanilla Graph Neural Networks ( as given in Tutorial 3)**\n",
        "---\n",
        "\n",
        "\n",
        "Recollect that for **Vanilla Graph Networks** we have,\n",
        "\n",
        "Given a graph with adjacency matrix $ \\tilde{A} $, feature matrix $ X $, and weight matrix $ W $, the updated feature matrix $ H $ can be calculated using the formula:\n",
        "\n",
        "$$\n",
        "H = \\sigma \\left( \\tilde{A}^{\\top} X W^{\\top} \\right)\n",
        "$$\n",
        "\n",
        "\n",
        "---\n",
        "\n",
        "\n",
        "### Now for GCNs,we have\n",
        "\n",
        "$$\n",
        "H = \\sigma \\left( \\tilde{D}^{-1} \\tilde{A} X W^{\\top} \\right)\n",
        "$$\n",
        "\n",
        "This formula implies that each node's feature vector is first spread across its neighbors according to $A$, then scaled down by the inverse of its degree, effectively normalizing the contribution of each node by its degree.\n",
        "\n",
        "### This prevents nodes with high degrees from dominating the feature aggregation process."
      ],
      "metadata": {
        "id": "PmIsDhORV4fy"
      }
    },
    {
      "cell_type": "markdown",
      "source": [
        "### **Normalized Form Using $ \\tilde{D}^{-\\frac{1}{2}}$**\n",
        "\n"
      ],
      "metadata": {
        "id": "CqRTv9gIQ2p3"
      }
    },
    {
      "cell_type": "markdown",
      "source": [
        "### The normalization approach introduced by [Kipf and Welling](https://arxiv.org/abs/1609.02907) enhances the above formulation by applying a symmetric normalization using the square roots of $\\tilde{D}$.\n",
        "\n",
        "#### This method helps in maintaining a balanced scale of feature propagation. Hence the feature transformation matrix becomes\n",
        "\n",
        "$$\n",
        "\\tilde{D}^{-\\frac{1}{2}} \\tilde{A} \\tilde{D}^{-\\frac{1}{2}} X W^{\\top}\n",
        "$$\n"
      ],
      "metadata": {
        "id": "Lh7aA7QrRK6Z"
      }
    },
    {
      "cell_type": "markdown",
      "source": [
        "#### The product $\\tilde{D}^{-\\frac{1}{2}} \\tilde{A} \\tilde{D}^{-\\frac{1}{2}}$ results in a symmetrically normalized adjacency matrix that ensures the magnitude of feature vectors remains consistent across the graph, thus avoiding numerical instabilities and improving the learning dynamics."
      ],
      "metadata": {
        "id": "zASaokVHRpmz"
      }
    },
    {
      "cell_type": "markdown",
      "source": [
        "So, generalized expression of a GCN layer becomes,\n",
        "\n",
        "\n",
        "$$\n",
        "H^{(l+1)} = \\sigma \\left( \\tilde{D}^{-\\frac{1}{2}} \\tilde{A} \\tilde{D}^{-\\frac{1}{2}} H^{(l)} W^{(l)} \\right)\n",
        "$$"
      ],
      "metadata": {
        "id": "RJQZ9Uv7SahB"
      }
    },
    {
      "cell_type": "markdown",
      "source": [
        "## GCNs improve upon vanilla graph neural networks in several ways:\n",
        "\n",
        "- **Normalization**: GCNs use the symmetric normalization $ \\tilde{D}^{-\\frac{1}{2}} \\tilde{A} \\tilde{D}^{-\\frac{1}{2}} $ which scales the feature aggregation by the degrees of the nodes, preventing high-degree nodes from dominating due to their larger number of connections.\n",
        "- **Self-connections**: The addition of the identity matrix $ I $ to $ A $ allows each node to consider its own features alongside its neighbors', helping preserve each node's original features through layers.\n",
        "- **Trainable Transformations**: The weight matrix $ W^{(l)} $ in GCNs is trainable, allowing the network to learn optimal feature transformations through backpropagation.\n",
        "\n",
        "## Applications of Graph Convolutional Networks\n",
        "\n",
        "GCNs find applications in various domains, such as:\n",
        "\n",
        "- **Social Network Analysis**: Detecting communities, predicting interactions, and understanding network dynamics.\n",
        "- **Recommendation Systems**: Enhancing recommendations by learning complex user-item relationships embedded in the network.\n",
        "- **Molecular Chemistry**: Predicting molecular properties by modeling molecular structures as graphs.\n",
        "- **Computer Vision**: Managing tasks involving non-grid data like point clouds or mesh structures."
      ],
      "metadata": {
        "id": "gG2bjW9VMejm"
      }
    },
    {
      "cell_type": "markdown",
      "source": [
        "### Even though the mechanism of standard convolution operation differs, the fundamental principles of convolution hold -\n",
        "\n",
        "*   Local Information Processing,\n",
        "*   Feature extraction\n",
        "*   Use of shared learnable filters\n",
        "\n",
        "### Therefore, the term \"convolution\" is used metaphorically to describe these operations in GCNs.\n",
        "\n",
        "### It highlights the network's ability to perform similar tasks as CNNs but adapted for data that inherently lacks a Euclidean structure, instead possessing complex relational and topological structures."
      ],
      "metadata": {
        "id": "LI9yyvL7f3Vz"
      }
    },
    {
      "cell_type": "markdown",
      "source": [
        "### **Let's understand by examples**"
      ],
      "metadata": {
        "id": "o9GGPl63BopB"
      }
    },
    {
      "cell_type": "code",
      "source": [
        "import networkx as nx\n",
        "import matplotlib.pyplot as plt\n",
        "import numpy as np"
      ],
      "metadata": {
        "id": "MCAIzk0_BoOX"
      },
      "execution_count": 1,
      "outputs": []
    },
    {
      "cell_type": "markdown",
      "source": [
        "## Example\n",
        "\n",
        "### Considering the following adjacency matrix $ A $"
      ],
      "metadata": {
        "id": "h5HEmpPjDvUg"
      }
    },
    {
      "cell_type": "code",
      "source": [
        "A = np.array([\n",
        "    [0, 1, 1, 1],\n",
        "    [1, 0, 0, 0],\n",
        "    [1, 0, 0, 1],\n",
        "    [1, 0, 1, 0]])"
      ],
      "metadata": {
        "id": "_vBtLjBIDuYX"
      },
      "execution_count": 2,
      "outputs": []
    },
    {
      "cell_type": "code",
      "source": [
        "# Create a graph from the adjacency matrix\n",
        "G = nx.from_numpy_array(A)\n",
        "mapping = {i: i + 1 for i in range(len(G.nodes))}\n",
        "G = nx.relabel_nodes(G, mapping)\n",
        "\n",
        "# Draw the graph with labels starting from 1\n",
        "plt.figure(figsize=(4, 4))\n",
        "nx.draw(G, with_labels=True, font_color='#ffffff', node_size=1000, node_color=\"#00b4d9\", font_size=15, font_weight='bold', edge_color='gray')\n",
        "plt.title(\"Graph Representation of the Adjacency Matrix A\")\n",
        "plt.show()"
      ],
      "metadata": {
        "colab": {
          "base_uri": "https://localhost:8080/",
          "height": 459
        },
        "id": "IhexkIaqDua3",
        "outputId": "600c54ea-2b6d-45e9-c06d-ae9b42e7eb5a"
      },
      "execution_count": 3,
      "outputs": [
        {
          "output_type": "display_data",
          "data": {
            "text/plain": [
              "<Figure size 400x400 with 1 Axes>"
            ],
            "image/png": "[encoded data removed]"
          },
          "metadata": {}
        }
      ]
    },
    {
      "cell_type": "markdown",
      "source": [
        "### **Degree matrix** $ D $\n",
        "\n",
        "\n"
      ],
      "metadata": {
        "id": "5n8gHMIZE4Yu"
      }
    },
    {
      "cell_type": "code",
      "source": [
        "D = np.diag(np.sum(A, axis=1))\n",
        "D"
      ],
      "metadata": {
        "colab": {
          "base_uri": "https://localhost:8080/"
        },
        "id": "Ep1ithxuE2-d",
        "outputId": "dc811904-7b66-4c97-d108-5cf5c0325e1b"
      },
      "execution_count": 4,
      "outputs": [
        {
          "output_type": "execute_result",
          "data": {
            "text/plain": [
              "array([[3, 0, 0, 0],\n",
              "       [0, 1, 0, 0],\n",
              "       [0, 0, 2, 0],\n",
              "       [0, 0, 0, 2]])"
            ]
          },
          "metadata": {},
          "execution_count": 4
        }
      ]
    },
    {
      "cell_type": "markdown",
      "source": [
        "### **Inverse of D:**\n",
        " $ {D}^{-1} $"
      ],
      "metadata": {
        "id": "iUQiXL3MHvyY"
      }
    },
    {
      "cell_type": "code",
      "source": [
        "invD = np.linalg.inv(D)\n",
        "invD"
      ],
      "metadata": {
        "colab": {
          "base_uri": "https://localhost:8080/"
        },
        "id": "e338y2jGDudP",
        "outputId": "64e840e3-200e-486d-e7df-363b8c240f37"
      },
      "execution_count": 5,
      "outputs": [
        {
          "output_type": "execute_result",
          "data": {
            "text/plain": [
              "array([[0.33333333, 0.        , 0.        , 0.        ],\n",
              "       [0.        , 1.        , 0.        , 0.        ],\n",
              "       [0.        , 0.        , 0.5       , 0.        ],\n",
              "       [0.        , 0.        , 0.        , 0.5       ]])"
            ]
          },
          "metadata": {},
          "execution_count": 5
        }
      ]
    },
    {
      "cell_type": "markdown",
      "source": [
        "### **adding self loops to adjacency matrix**:  $ \\tilde{A}  = A + I$"
      ],
      "metadata": {
        "id": "0H32It3AJJY-"
      }
    },
    {
      "cell_type": "code",
      "source": [
        "Adash = A + np.identity(4)"
      ],
      "metadata": {
        "id": "faw4MKz3JH6H"
      },
      "execution_count": 6,
      "outputs": []
    },
    {
      "cell_type": "code",
      "source": [
        "Adash"
      ],
      "metadata": {
        "colab": {
          "base_uri": "https://localhost:8080/"
        },
        "id": "vjimE8X4JTe3",
        "outputId": "d74df179-3ea7-4353-e8cc-8684af0f23b1"
      },
      "execution_count": 7,
      "outputs": [
        {
          "output_type": "execute_result",
          "data": {
            "text/plain": [
              "array([[1., 1., 1., 1.],\n",
              "       [1., 1., 0., 0.],\n",
              "       [1., 0., 1., 1.],\n",
              "       [1., 0., 1., 1.]])"
            ]
          },
          "metadata": {},
          "execution_count": 7
        }
      ]
    },
    {
      "cell_type": "markdown",
      "source": [
        "### **New Degree Matrix - considering self loops:** $ \\tilde{D} $\n"
      ],
      "metadata": {
        "id": "HSSjlA8fJYWP"
      }
    },
    {
      "cell_type": "code",
      "source": [
        "Ddash = np.diag(np.sum(Adash, axis=1))"
      ],
      "metadata": {
        "id": "RQXkqo0jJX-_"
      },
      "execution_count": 8,
      "outputs": []
    },
    {
      "cell_type": "code",
      "source": [
        "Ddash"
      ],
      "metadata": {
        "colab": {
          "base_uri": "https://localhost:8080/"
        },
        "id": "RR25DwhGJhGp",
        "outputId": "f51805ef-4c66-4b11-96ed-ee469a922f29"
      },
      "execution_count": 9,
      "outputs": [
        {
          "output_type": "execute_result",
          "data": {
            "text/plain": [
              "array([[4., 0., 0., 0.],\n",
              "       [0., 2., 0., 0.],\n",
              "       [0., 0., 3., 0.],\n",
              "       [0., 0., 0., 3.]])"
            ]
          },
          "metadata": {},
          "execution_count": 9
        }
      ]
    },
    {
      "cell_type": "markdown",
      "source": [
        "### Inverse of the new D matrix:   $ \\tilde{D}^{-1} $"
      ],
      "metadata": {
        "id": "tHzB6psoJm2p"
      }
    },
    {
      "cell_type": "code",
      "source": [
        "invDdash = np.linalg.inv(Ddash)"
      ],
      "metadata": {
        "id": "9KvUclnWJm_5"
      },
      "execution_count": 10,
      "outputs": []
    },
    {
      "cell_type": "code",
      "source": [
        "invDdash"
      ],
      "metadata": {
        "colab": {
          "base_uri": "https://localhost:8080/"
        },
        "id": "D_woq_z1JnFJ",
        "outputId": "74a3c72c-91c4-4a3d-855b-b9c629252b58"
      },
      "execution_count": 11,
      "outputs": [
        {
          "output_type": "execute_result",
          "data": {
            "text/plain": [
              "array([[0.25      , 0.        , 0.        , 0.        ],\n",
              "       [0.        , 0.5       , 0.        , 0.        ],\n",
              "       [0.        , 0.        , 0.33333333, 0.        ],\n",
              "       [0.        , 0.        , 0.        , 0.33333333]])"
            ]
          },
          "metadata": {},
          "execution_count": 11
        }
      ]
    },
    {
      "cell_type": "markdown",
      "source": [
        "### **$\\tilde{D}^{-1} \\tilde{A}$**"
      ],
      "metadata": {
        "id": "Ci3ASco9W20K"
      }
    },
    {
      "cell_type": "code",
      "source": [
        "dinv_x_A = np.multiply(invDdash, Adash)\n",
        "dinv_x_A"
      ],
      "metadata": {
        "colab": {
          "base_uri": "https://localhost:8080/"
        },
        "id": "s9WWWq3YDuke",
        "outputId": "433bad4e-059d-4c2d-cbe2-683a8ac7a7c2"
      },
      "execution_count": 12,
      "outputs": [
        {
          "output_type": "execute_result",
          "data": {
            "text/plain": [
              "array([[0.25      , 0.        , 0.        , 0.        ],\n",
              "       [0.        , 0.5       , 0.        , 0.        ],\n",
              "       [0.        , 0.        , 0.33333333, 0.        ],\n",
              "       [0.        , 0.        , 0.        , 0.33333333]])"
            ]
          },
          "metadata": {},
          "execution_count": 12
        }
      ]
    },
    {
      "cell_type": "markdown",
      "source": [
        "### **Working out examples from previous Tutorials**"
      ],
      "metadata": {
        "id": "Eqa2HJjnY2-S"
      }
    },
    {
      "cell_type": "code",
      "source": [
        "!pip install -q torch_geometric"
      ],
      "metadata": {
        "colab": {
          "base_uri": "https://localhost:8080/"
        },
        "id": "0HIdtEBib2QY",
        "outputId": "fee7ac8c-bd00-4150-8442-ad516537fda2"
      },
      "execution_count": 13,
      "outputs": [
        {
          "output_type": "stream",
          "name": "stdout",
          "text": [
            "\u001b[?25l     \u001b[90m━━━━━━━━━━━━━━━━━━━━━━━━━━━━━━━━━━━━━━━━\u001b[0m \u001b[32m0.0/1.1 MB\u001b[0m \u001b[31m?\u001b[0m eta \u001b[36m-:--:--\u001b[0m\r\u001b[2K     \u001b[90m━━━━━━━━━━━━━━━━━━━━━━━━━━━━━━━━━━━━━━━━\u001b[0m \u001b[32m0.0/1.1 MB\u001b[0m \u001b[31m?\u001b[0m eta \u001b[36m-:--:--\u001b[0m\r\u001b[2K     \u001b[91m━\u001b[0m\u001b[90m╺\u001b[0m\u001b[90m━━━━━━━━━━━━━━━━━━━━━━━━━━━━━━━━━━━━━━\u001b[0m \u001b[32m0.0/1.1 MB\u001b[0m \u001b[31m485.3 kB/s\u001b[0m eta \u001b[36m0:00:03\u001b[0m\r\u001b[2K     \u001b[91m━━━━\u001b[0m\u001b[90m╺\u001b[0m\u001b[90m━━━━━━━━━━━━━━━━━━━━━━━━━━━━━━━━━━━\u001b[0m \u001b[32m0.1/1.1 MB\u001b[0m \u001b[31m1.0 MB/s\u001b[0m eta \u001b[36m0:00:01\u001b[0m\r\u001b[2K     \u001b[91m━━━━━━━━━\u001b[0m\u001b[90m╺\u001b[0m\u001b[90m━━━━━━━━━━━━━━━━━━━━━━━━━━━━━━\u001b[0m \u001b[32m0.3/1.1 MB\u001b[0m \u001b[31m1.8 MB/s\u001b[0m eta \u001b[36m0:00:01\u001b[0m\r\u001b[2K     \u001b[91m━━━━━━━━━━━━━━━━━━━\u001b[0m\u001b[90m╺\u001b[0m\u001b[90m━━━━━━━━━━━━━━━━━━━━\u001b[0m \u001b[32m0.5/1.1 MB\u001b[0m \u001b[31m3.0 MB/s\u001b[0m eta \u001b[36m0:00:01\u001b[0m\r\u001b[2K     \u001b[91m━━━━━━━━━━━━━━━━━━━━━━━━━━━━━━━━━━━━━━━\u001b[0m\u001b[90m╺\u001b[0m \u001b[32m1.1/1.1 MB\u001b[0m \u001b[31m5.0 MB/s\u001b[0m eta \u001b[36m0:00:01\u001b[0m\r\u001b[2K     \u001b[90m━━━━━━━━━━━━━━━━━━━━━━━━━━━━━━━━━━━━━━━━\u001b[0m \u001b[32m1.1/1.1 MB\u001b[0m \u001b[31m4.4 MB/s\u001b[0m eta \u001b[36m0:00:00\u001b[0m\n",
            "\u001b[?25h"
          ]
        }
      ]
    },
    {
      "cell_type": "code",
      "source": [
        "from torch_geometric.datasets import Planetoid,FacebookPagePage\n",
        "from torch_geometric.utils import degree\n",
        "from collections import Counter\n",
        "import matplotlib.pyplot as plt"
      ],
      "metadata": {
        "id": "lx-l7kIrb2TU"
      },
      "execution_count": 14,
      "outputs": []
    },
    {
      "cell_type": "markdown",
      "source": [
        "### **The Cora Dataset**"
      ],
      "metadata": {
        "id": "3AaxYzn9dNPP"
      }
    },
    {
      "cell_type": "code",
      "source": [
        "# Import dataset from PyTorch Geometric\n",
        "dataset = Planetoid(root=\".\", name=\"Cora\")\n",
        "data = dataset[0]\n",
        "degrees = degree(data.edge_index[0]).numpy()\n"
      ],
      "metadata": {
        "colab": {
          "base_uri": "https://localhost:8080/"
        },
        "id": "a6IidYsEb2Vp",
        "outputId": "10523e80-a097-4b47-fa19-9212acfb4e8a"
      },
      "execution_count": 15,
      "outputs": [
        {
          "output_type": "stream",
          "name": "stderr",
          "text": [
            "Downloading https://github.com/kimiyoung/planetoid/raw/master/data/ind.cora.x\n",
            "Downloading https://github.com/kimiyoung/planetoid/raw/master/data/ind.cora.tx\n",
            "Downloading https://github.com/kimiyoung/planetoid/raw/master/data/ind.cora.allx\n",
            "Downloading https://github.com/kimiyoung/planetoid/raw/master/data/ind.cora.y\n",
            "Downloading https://github.com/kimiyoung/planetoid/raw/master/data/ind.cora.ty\n",
            "Downloading https://github.com/kimiyoung/planetoid/raw/master/data/ind.cora.ally\n",
            "Downloading https://github.com/kimiyoung/planetoid/raw/master/data/ind.cora.graph\n",
            "Downloading https://github.com/kimiyoung/planetoid/raw/master/data/ind.cora.test.index\n",
            "Processing...\n",
            "Done!\n"
          ]
        }
      ]
    },
    {
      "cell_type": "code",
      "source": [
        "# degrees\n",
        "numbers = Counter(degrees)"
      ],
      "metadata": {
        "id": "Qh4KVTb6b2YG"
      },
      "execution_count": 16,
      "outputs": []
    },
    {
      "cell_type": "code",
      "source": [
        "fig, ax = plt.subplots()\n",
        "ax.set_xlabel('Node Degree')\n",
        "ax.set_ylabel('Number of Nodes')\n",
        "ax.set_title('Distribution of Node Degrees in the Cora Graph')  # Adding a title\n",
        "\n",
        "# Creating the bar plot\n",
        "bars = ax.bar(numbers.keys(), numbers.values(), color='skyblue')  # Color the bars\n",
        "\n",
        "# Adding grid for better readability\n",
        "ax.set_axisbelow(True)\n",
        "ax.yaxis.grid(True, color='#EEEEEE')\n",
        "ax.xaxis.grid(False)\n",
        "\n",
        "# Optionally, add a gentle x-axis limit extension\n",
        "ax.set_xlim(min(numbers.keys()) - 0.5, max(numbers.keys()) + 0.5)\n",
        "\n",
        "# Optionally, add labels on top of each bar\n",
        "for bar in bars:\n",
        "    yval = bar.get_height()\n",
        "\n",
        "plt.show()"
      ],
      "metadata": {
        "colab": {
          "base_uri": "https://localhost:8080/",
          "height": 472
        },
        "id": "78WfPqq_b2aw",
        "outputId": "6bb69c1b-03ee-4c4f-f10b-c67bb588ef01"
      },
      "execution_count": 17,
      "outputs": [
        {
          "output_type": "display_data",
          "data": {
            "text/plain": [
              "<Figure size 640x480 with 1 Axes>"
            ],
            "image/png": "[encoded data removed]"
          },
          "metadata": {}
        }
      ]
    },
    {
      "cell_type": "markdown",
      "source": [
        "\n",
        "### This distribution appears to be exponential with a heavy tail: it spans from 1 neighbor (485 nodes) to 168 neighbors (just 1 node)! Such a dataset is a prime example for a degree normalization process to address this imbalance."
      ],
      "metadata": {
        "id": "7TCOC5gldBJ-"
      }
    },
    {
      "cell_type": "markdown",
      "source": [
        "---"
      ],
      "metadata": {
        "id": "Ixmw6ww6fav5"
      }
    },
    {
      "cell_type": "markdown",
      "source": [
        "### Pytorch Geometric Graph Convolutional Network: on the Cora dataset"
      ],
      "metadata": {
        "id": "MFWFG87tfczS"
      }
    },
    {
      "cell_type": "code",
      "source": [
        "import torch\n",
        "import torch.nn.functional as F\n",
        "\n",
        "from torch_geometric.nn import GCNConv"
      ],
      "metadata": {
        "id": "A3Oe0BmJb2nx"
      },
      "execution_count": 18,
      "outputs": []
    },
    {
      "cell_type": "code",
      "source": [
        "def accuracy(pred_y, y):\n",
        "    return ((pred_y == y).sum() / len(y)).item()"
      ],
      "metadata": {
        "id": "jMMRJkmab2qP"
      },
      "execution_count": 19,
      "outputs": []
    },
    {
      "cell_type": "code",
      "source": [
        "class GCN(torch.nn.Module):\n",
        "    \"\"\"GCN\"\"\"\n",
        "    def __init__(self, dim_in, dim_h, dim_out):\n",
        "        super().__init__()\n",
        "        self.gcn1 = GCNConv(dim_in, dim_h)\n",
        "        self.gcn2 = GCNConv(dim_h, dim_out)\n",
        "\n",
        "    def forward(self, x, edge_index):\n",
        "        h = self.gcn1(x,edge_index)\n",
        "        h = torch.relu(h)\n",
        "        h = self.gcn2(h, edge_index)\n",
        "\n",
        "        return F.log_softmax(h, dim=1)\n",
        "\n",
        "    def fit(self, data, epochs):\n",
        "        criterion = torch.nn.CrossEntropyLoss()\n",
        "        optimizer = torch.optim.Adam(self.parameters(),\n",
        "                                      lr=0.01,\n",
        "                                      weight_decay=5e-4)\n",
        "\n",
        "        self.train()\n",
        "        for epoch in range(epochs+1):\n",
        "            optimizer.zero_grad()\n",
        "            out = self(data.x, data.edge_index)\n",
        "            loss = criterion(out[data.train_mask], data.y[data.train_mask])\n",
        "            acc = accuracy(out[data.train_mask].argmax(dim=1),data.y[data.train_mask])\n",
        "            loss.backward()\n",
        "            optimizer.step()\n",
        "\n",
        "            if(epoch % 20 == 0):\n",
        "                val_loss = criterion(out[data.val_mask], data.y[data.val_mask])\n",
        "                val_acc = accuracy(out[data.val_mask].argmax(dim=1),\n",
        "                                  data.y[data.val_mask])\n",
        "                print(f'Epoch {epoch:>3} | Train Loss: {loss:.3f} | Train Acc:'f' {acc*100:>5.2f}% | Val Loss: {val_loss:.2f} | 'f'Val Acc: {val_acc*100:.2f}%')\n",
        "\n",
        "    @torch.no_grad()\n",
        "    def test(self, data):\n",
        "        self.eval()\n",
        "        out = self(data.x, data.edge_index)\n",
        "        acc = accuracy(out.argmax(dim=1)[data.test_mask], data.y[data.test_mask])\n",
        "        return acc"
      ],
      "metadata": {
        "id": "9EzbzEpWb2so"
      },
      "execution_count": 20,
      "outputs": []
    },
    {
      "cell_type": "code",
      "source": [
        "# Create the Vanilla GNN model on Cora\n",
        "gcn = GCN(dataset.num_features, 16, dataset.num_classes)\n",
        "print(gcn)"
      ],
      "metadata": {
        "colab": {
          "base_uri": "https://localhost:8080/"
        },
        "id": "yo80olsOgeeW",
        "outputId": "aa4d5155-9f62-4fa3-b77a-3d85de502c2d"
      },
      "execution_count": 21,
      "outputs": [
        {
          "output_type": "stream",
          "name": "stdout",
          "text": [
            "GCN(\n",
            "  (gcn1): GCNConv(1433, 16)\n",
            "  (gcn2): GCNConv(16, 7)\n",
            ")\n"
          ]
        }
      ]
    },
    {
      "cell_type": "code",
      "source": [
        "# Train\n",
        "gcn.fit(data, epochs=100)"
      ],
      "metadata": {
        "colab": {
          "base_uri": "https://localhost:8080/"
        },
        "id": "8wGnI_ZHgejS",
        "outputId": "fa59399d-64a0-4ea0-cb75-6d603750caaf"
      },
      "execution_count": 22,
      "outputs": [
        {
          "output_type": "stream",
          "name": "stdout",
          "text": [
            "Epoch   0 | Train Loss: 1.948 | Train Acc: 15.00% | Val Loss: 1.95 | Val Acc: 15.60%\n",
            "Epoch  20 | Train Loss: 0.108 | Train Acc: 100.00% | Val Loss: 0.78 | Val Acc: 77.40%\n",
            "Epoch  40 | Train Loss: 0.016 | Train Acc: 100.00% | Val Loss: 0.77 | Val Acc: 77.80%\n",
            "Epoch  60 | Train Loss: 0.016 | Train Acc: 100.00% | Val Loss: 0.76 | Val Acc: 77.60%\n",
            "Epoch  80 | Train Loss: 0.018 | Train Acc: 100.00% | Val Loss: 0.75 | Val Acc: 78.00%\n",
            "Epoch 100 | Train Loss: 0.016 | Train Acc: 100.00% | Val Loss: 0.75 | Val Acc: 77.80%\n"
          ]
        }
      ]
    },
    {
      "cell_type": "code",
      "source": [
        "# Test\n",
        "acc = gcn.test(data)\n",
        "print(f'\\nGCN test accuracy on Cora Dataset: {acc*100:.2f}%\\n')"
      ],
      "metadata": {
        "colab": {
          "base_uri": "https://localhost:8080/"
        },
        "id": "okoVghJygemG",
        "outputId": "9ad1ade3-0b59-4bb9-f852-85ff75d9954c"
      },
      "execution_count": 23,
      "outputs": [
        {
          "output_type": "stream",
          "name": "stdout",
          "text": [
            "\n",
            "GCN test accuracy on Cora Dataset: 80.40%\n",
            "\n"
          ]
        }
      ]
    },
    {
      "cell_type": "markdown",
      "source": [
        "## **The FB Page-Page dataset**"
      ],
      "metadata": {
        "id": "2BwyCL1FhJqh"
      }
    },
    {
      "cell_type": "code",
      "source": [
        "# Import dataset from PyTorch Geometric\n",
        "dataset = FacebookPagePage(root=\".\")\n",
        "data = dataset[0]\n",
        "\n",
        "# Create masks\n",
        "data.train_mask = range(18000)\n",
        "data.val_mask = range(18001, 20000)\n",
        "data.test_mask = range(20001, 22470)\n"
      ],
      "metadata": {
        "colab": {
          "base_uri": "https://localhost:8080/"
        },
        "id": "QpdV9CmUgeog",
        "outputId": "26aece61-0d5b-47bf-e64e-20a8ec755573"
      },
      "execution_count": 24,
      "outputs": [
        {
          "output_type": "stream",
          "name": "stderr",
          "text": [
            "Downloading https://graphmining.ai/datasets/ptg/facebook.npz\n",
            "Processing...\n",
            "Done!\n"
          ]
        }
      ]
    },
    {
      "cell_type": "code",
      "source": [
        "# Get list of degrees for each node\n",
        "degrees = degree(data.edge_index[0]).numpy()\n",
        "\n",
        "# Count the number of nodes for each degree\n",
        "numbers = Counter(degrees)"
      ],
      "metadata": {
        "id": "NeptG_pEgerW"
      },
      "execution_count": 25,
      "outputs": []
    },
    {
      "cell_type": "code",
      "source": [
        "fig, ax = plt.subplots()\n",
        "ax.set_xlabel('Node Degree')\n",
        "ax.set_ylabel('Number of Nodes')\n",
        "ax.set_title('Distribution of Node Degrees in the Facebook Page-Page Graph')  # Adding a title\n",
        "\n",
        "# Creating the bar plot\n",
        "bars = ax.bar(numbers.keys(), numbers.values(), color='skyblue')  # Color the bars\n",
        "\n",
        "# Adding grid for better readability\n",
        "ax.set_axisbelow(True)\n",
        "ax.yaxis.grid(True, color='#EEEEEE')\n",
        "ax.xaxis.grid(False)\n",
        "\n",
        "# Optionally, add a gentle x-axis limit extension\n",
        "ax.set_xlim(min(numbers.keys()) - 0.5, max(numbers.keys()) + 0.5)\n",
        "\n",
        "# Optionally, add labels on top of each bar\n",
        "for bar in bars:\n",
        "    yval = bar.get_height()\n",
        "\n",
        "plt.show()"
      ],
      "metadata": {
        "colab": {
          "base_uri": "https://localhost:8080/",
          "height": 472
        },
        "id": "Y-421Q4ggetu",
        "outputId": "8dd52e70-e253-4be3-f5d8-65c5a5424665"
      },
      "execution_count": 26,
      "outputs": [
        {
          "output_type": "display_data",
          "data": {
            "text/plain": [
              "<Figure size 640x480 with 1 Axes>"
            ],
            "image/png": "[encoded data removed]"
          },
          "metadata": {}
        }
      ]
    },
    {
      "cell_type": "markdown",
      "source": [
        "\n",
        "### The distribution of node degrees is notably skewed, ranging from 1 to 709 neighbors. For this reason, the Facebook Page-Page dataset presents an exciting case to apply a Graph Convolutional Network (GCN)."
      ],
      "metadata": {
        "id": "NK1vwuQ8h6cm"
      }
    },
    {
      "cell_type": "code",
      "source": [
        "gcn = GCN(dataset.num_features, 16, dataset.num_classes)\n",
        "print(gcn)"
      ],
      "metadata": {
        "colab": {
          "base_uri": "https://localhost:8080/"
        },
        "id": "olkKDLFegewe",
        "outputId": "a9e5f7df-6e01-4e83-d8f0-314a246dc460"
      },
      "execution_count": 27,
      "outputs": [
        {
          "output_type": "stream",
          "name": "stdout",
          "text": [
            "GCN(\n",
            "  (gcn1): GCNConv(128, 16)\n",
            "  (gcn2): GCNConv(16, 4)\n",
            ")\n"
          ]
        }
      ]
    },
    {
      "cell_type": "code",
      "source": [
        "# Train\n",
        "gcn.fit(data, epochs=100)\n",
        "\n"
      ],
      "metadata": {
        "colab": {
          "base_uri": "https://localhost:8080/"
        },
        "id": "sJQw_IgygezX",
        "outputId": "4b8c3b4c-e5bd-4511-c430-f5b61f2b081a"
      },
      "execution_count": 28,
      "outputs": [
        {
          "output_type": "stream",
          "name": "stdout",
          "text": [
            "Epoch   0 | Train Loss: 1.504 | Train Acc: 21.83% | Val Loss: 1.50 | Val Acc: 21.31%\n",
            "Epoch  20 | Train Loss: 0.447 | Train Acc: 84.36% | Val Loss: 0.45 | Val Acc: 85.04%\n",
            "Epoch  40 | Train Loss: 0.319 | Train Acc: 89.50% | Val Loss: 0.32 | Val Acc: 89.39%\n",
            "Epoch  60 | Train Loss: 0.279 | Train Acc: 91.13% | Val Loss: 0.28 | Val Acc: 91.35%\n",
            "Epoch  80 | Train Loss: 0.258 | Train Acc: 92.08% | Val Loss: 0.26 | Val Acc: 92.00%\n",
            "Epoch 100 | Train Loss: 0.243 | Train Acc: 92.68% | Val Loss: 0.25 | Val Acc: 92.45%\n"
          ]
        }
      ]
    },
    {
      "cell_type": "code",
      "source": [
        "# Test\n",
        "acc = gcn.test(data)\n",
        "print(f'\\nGCN test accuracy on Facebook Page-Page Dataset: {acc*100:.2f}%\\n')"
      ],
      "metadata": {
        "colab": {
          "base_uri": "https://localhost:8080/"
        },
        "id": "lN7Ehj32ge1v",
        "outputId": "8df117d6-08ac-4771-903d-9e10cb147e9c"
      },
      "execution_count": 29,
      "outputs": [
        {
          "output_type": "stream",
          "name": "stdout",
          "text": [
            "\n",
            "GCN test accuracy on Facebook Page-Page Dataset: 91.54%\n",
            "\n"
          ]
        }
      ]
    },
    {
      "cell_type": "markdown",
      "source": [
        "## Comparing MLP, Vanilla GNN and GCN"
      ],
      "metadata": {
        "id": "WB39UEqXjj3_"
      }
    },
    {
      "cell_type": "markdown",
      "source": [
        "| Dataset  | MLP             | Vanilla GNN              | GCN |\n",
        "|:----------:|:-----------------:|:------------------:| :-------------: |\n",
        "| Cora     | 53.40% | 75.00%  |80.60 % |\n",
        "| Facebook Page-Page | 75.13% | 82.67%  | 91.21%|"
      ],
      "metadata": {
        "id": "FFApQVCbkjuu"
      }
    },
    {
      "cell_type": "markdown",
      "source": [
        "\n",
        "\n",
        "---\n",
        "\n",
        "\n",
        "\n",
        "---\n",
        "\n"
      ],
      "metadata": {
        "id": "kugNzSTak-bh"
      }
    },
    {
      "cell_type": "markdown",
      "source": [
        "# GCN on the CiteSeer and Pubmed dataset from Tutorial 3"
      ],
      "metadata": {
        "id": "lq3g-1YIkqnv"
      }
    },
    {
      "cell_type": "code",
      "source": [
        "dataset_CSeer = Planetoid(root=\".\", name=\"CiteSeer\")\n",
        "data_graph_CSeer = dataset_CSeer[0] # get the citeseer graph\n",
        "\n",
        "dataset_PM = Planetoid(root=\".\", name=\"PubMed\")\n",
        "data_graph_PM = dataset_PM[0] # the Pubmed graph"
      ],
      "metadata": {
        "colab": {
          "base_uri": "https://localhost:8080/"
        },
        "id": "RwY2TAn5ge4W",
        "outputId": "a4409800-4029-49b0-81c9-40a8c0e99c91"
      },
      "execution_count": 30,
      "outputs": [
        {
          "output_type": "stream",
          "name": "stderr",
          "text": [
            "Downloading https://github.com/kimiyoung/planetoid/raw/master/data/ind.citeseer.x\n",
            "Downloading https://github.com/kimiyoung/planetoid/raw/master/data/ind.citeseer.tx\n",
            "Downloading https://github.com/kimiyoung/planetoid/raw/master/data/ind.citeseer.allx\n",
            "Downloading https://github.com/kimiyoung/planetoid/raw/master/data/ind.citeseer.y\n",
            "Downloading https://github.com/kimiyoung/planetoid/raw/master/data/ind.citeseer.ty\n",
            "Downloading https://github.com/kimiyoung/planetoid/raw/master/data/ind.citeseer.ally\n",
            "Downloading https://github.com/kimiyoung/planetoid/raw/master/data/ind.citeseer.graph\n",
            "Downloading https://github.com/kimiyoung/planetoid/raw/master/data/ind.citeseer.test.index\n",
            "Processing...\n",
            "Done!\n",
            "Downloading https://github.com/kimiyoung/planetoid/raw/master/data/ind.pubmed.x\n",
            "Downloading https://github.com/kimiyoung/planetoid/raw/master/data/ind.pubmed.tx\n",
            "Downloading https://github.com/kimiyoung/planetoid/raw/master/data/ind.pubmed.allx\n",
            "Downloading https://github.com/kimiyoung/planetoid/raw/master/data/ind.pubmed.y\n",
            "Downloading https://github.com/kimiyoung/planetoid/raw/master/data/ind.pubmed.ty\n",
            "Downloading https://github.com/kimiyoung/planetoid/raw/master/data/ind.pubmed.ally\n",
            "Downloading https://github.com/kimiyoung/planetoid/raw/master/data/ind.pubmed.graph\n",
            "Downloading https://github.com/kimiyoung/planetoid/raw/master/data/ind.pubmed.test.index\n",
            "Processing...\n",
            "Done!\n"
          ]
        }
      ]
    },
    {
      "cell_type": "markdown",
      "source": [
        "## **GCN on Citeseer**"
      ],
      "metadata": {
        "id": "Tl-4E2PnlSFO"
      }
    },
    {
      "cell_type": "code",
      "source": [
        "gcn = GCN(dataset_CSeer.num_features, 16, dataset_CSeer.num_classes)\n",
        "print(gcn)"
      ],
      "metadata": {
        "colab": {
          "base_uri": "https://localhost:8080/"
        },
        "id": "wPzG-WvBlQ1O",
        "outputId": "e31b3328-429c-49bf-e56b-549ee6f71a01"
      },
      "execution_count": 31,
      "outputs": [
        {
          "output_type": "stream",
          "name": "stdout",
          "text": [
            "GCN(\n",
            "  (gcn1): GCNConv(3703, 16)\n",
            "  (gcn2): GCNConv(16, 6)\n",
            ")\n"
          ]
        }
      ]
    },
    {
      "cell_type": "code",
      "source": [
        "# Train\n",
        "gcn.fit(data_graph_CSeer, epochs=100)"
      ],
      "metadata": {
        "colab": {
          "base_uri": "https://localhost:8080/"
        },
        "id": "c1emgm7llQ3e",
        "outputId": "041776fd-3916-4670-e19d-e3b07346c062"
      },
      "execution_count": 32,
      "outputs": [
        {
          "output_type": "stream",
          "name": "stdout",
          "text": [
            "Epoch   0 | Train Loss: 1.795 | Train Acc: 18.33% | Val Loss: 1.80 | Val Acc: 16.60%\n",
            "Epoch  20 | Train Loss: 0.026 | Train Acc: 100.00% | Val Loss: 1.13 | Val Acc: 63.60%\n",
            "Epoch  40 | Train Loss: 0.009 | Train Acc: 100.00% | Val Loss: 1.10 | Val Acc: 66.20%\n",
            "Epoch  60 | Train Loss: 0.013 | Train Acc: 100.00% | Val Loss: 1.05 | Val Acc: 67.60%\n",
            "Epoch  80 | Train Loss: 0.013 | Train Acc: 100.00% | Val Loss: 1.04 | Val Acc: 66.60%\n",
            "Epoch 100 | Train Loss: 0.012 | Train Acc: 100.00% | Val Loss: 1.03 | Val Acc: 68.20%\n"
          ]
        }
      ]
    },
    {
      "cell_type": "code",
      "source": [
        "# Test\n",
        "acc = gcn.test(data_graph_CSeer)\n",
        "print(f'\\nGCN test accuracy on CiteSeer Dataset: {acc*100:.2f}%\\n')"
      ],
      "metadata": {
        "colab": {
          "base_uri": "https://localhost:8080/"
        },
        "id": "HmzhAwFLlQ6I",
        "outputId": "75d74638-ce39-4bb4-8265-8ed5eb1eb934"
      },
      "execution_count": 33,
      "outputs": [
        {
          "output_type": "stream",
          "name": "stdout",
          "text": [
            "\n",
            "GCN test accuracy on CiteSeer Dataset: 67.90%\n",
            "\n"
          ]
        }
      ]
    },
    {
      "cell_type": "markdown",
      "source": [
        "## **GCN on Pubmed**"
      ],
      "metadata": {
        "id": "n2KmzLHdls3K"
      }
    },
    {
      "cell_type": "code",
      "source": [
        "gcn = GCN(dataset_PM.num_features, 16, dataset_PM.num_classes)\n",
        "print(gcn)"
      ],
      "metadata": {
        "colab": {
          "base_uri": "https://localhost:8080/"
        },
        "id": "q36MZcTIlQ8u",
        "outputId": "13c4ce40-b6ab-4df6-9f58-3f45c3aad10f"
      },
      "execution_count": 34,
      "outputs": [
        {
          "output_type": "stream",
          "name": "stdout",
          "text": [
            "GCN(\n",
            "  (gcn1): GCNConv(500, 16)\n",
            "  (gcn2): GCNConv(16, 3)\n",
            ")\n"
          ]
        }
      ]
    },
    {
      "cell_type": "code",
      "source": [
        "# Train\n",
        "gcn.fit(data_graph_PM, epochs=100)"
      ],
      "metadata": {
        "colab": {
          "base_uri": "https://localhost:8080/"
        },
        "id": "u_KhC2qWlQ_P",
        "outputId": "4aae914f-ecf9-404d-c3a7-b0e4606e0f02"
      },
      "execution_count": 35,
      "outputs": [
        {
          "output_type": "stream",
          "name": "stdout",
          "text": [
            "Epoch   0 | Train Loss: 1.098 | Train Acc: 40.00% | Val Loss: 1.10 | Val Acc: 38.60%\n",
            "Epoch  20 | Train Loss: 0.631 | Train Acc: 95.00% | Val Loss: 0.83 | Val Acc: 75.60%\n",
            "Epoch  40 | Train Loss: 0.249 | Train Acc: 98.33% | Val Loss: 0.62 | Val Acc: 76.80%\n",
            "Epoch  60 | Train Loss: 0.131 | Train Acc: 100.00% | Val Loss: 0.58 | Val Acc: 77.40%\n",
            "Epoch  80 | Train Loss: 0.099 | Train Acc: 100.00% | Val Loss: 0.57 | Val Acc: 78.20%\n",
            "Epoch 100 | Train Loss: 0.082 | Train Acc: 100.00% | Val Loss: 0.56 | Val Acc: 78.40%\n"
          ]
        }
      ]
    },
    {
      "cell_type": "code",
      "source": [
        "# Test\n",
        "acc = gcn.test(data_graph_PM)\n",
        "print(f'\\nGCN test accuracy on PubMed Dataset: {acc*100:.2f}%\\n')"
      ],
      "metadata": {
        "colab": {
          "base_uri": "https://localhost:8080/"
        },
        "id": "8kMJF93qlRB-",
        "outputId": "145d55d6-1d3a-4329-e1d0-4d61ba8ac017"
      },
      "execution_count": 36,
      "outputs": [
        {
          "output_type": "stream",
          "name": "stdout",
          "text": [
            "\n",
            "GCN test accuracy on PubMed Dataset: 78.90%\n",
            "\n"
          ]
        }
      ]
    },
    {
      "cell_type": "code",
      "source": [
        "# @title Model Comparison\n",
        "%%html\n",
        "<table style=\"width:70%; margin-left:auto; margin-right:auto;\" border=\"1\">\n",
        "  <tr style=\"background-color: #f2f2f2;\">\n",
        "    <th style=\"padding: 10px; text-align:center;\">Dataset</th>\n",
        "    <th style=\"padding: 10px; text-align:center;\">MLP (Tutorial 3)</th>\n",
        "    <th style=\"padding: 10px; text-align:center;\">Vanilla GNN (Tutorial 3)</th>\n",
        "    <th style=\"padding: 10px; text-align:center;\">GCN </th>\n",
        "  </tr>\n",
        "  <tr>\n",
        "    <td style=\"padding: 10px; text-align:center;\">Cora</td>\n",
        "    <td style=\"padding: 10px; text-align:center;\">53.40%</td>\n",
        "    <td style=\"padding: 10px; text-align:center;\">75.00%</td>\n",
        "    <td style=\"padding: 10px; text-align:center;\">80.60%</td>\n",
        "  </tr>\n",
        "  <tr style=\"background-color: #f9f9f9;\">\n",
        "    <td style=\"padding: 10px; text-align:center;\">Facebook Page-Page</td>\n",
        "    <td style=\"padding: 10px; text-align:center;\">75.13%</td>\n",
        "    <td style=\"padding: 10px; text-align:center;\">82.67%</td>\n",
        "    <td style=\"padding: 10px; text-align:center;\">91.21%</td>\n",
        "  </tr>\n",
        "  <tr>\n",
        "    <td style=\"padding: 10px; text-align:center;\">CiteSeer</td>\n",
        "    <td style=\"padding: 10px; text-align:center;\">52.70%</td>\n",
        "    <td style=\"padding: 10px; text-align:center;\">65.50%</td>\n",
        "    <td style=\"padding: 10px; text-align:center;\">68.10%</td>\n",
        "  </tr>\n",
        "  <tr style=\"background-color: #f9f9f9;\">\n",
        "    <td style=\"padding: 10px; text-align:center;\">PubMed</td>\n",
        "    <td style=\"padding: 10px; text-align:center;\">71.90%</td>\n",
        "    <td style=\"padding: 10px; text-align:center;\">76.50%</td>\n",
        "    <td style=\"padding: 10px; text-align:center;\">79.10%</td>\n",
        "  </tr>\n",
        "</table>\n"
      ],
      "metadata": {
        "colab": {
          "base_uri": "https://localhost:8080/",
          "height": 228
        },
        "cellView": "form",
        "id": "wHH5YGMMlREg",
        "outputId": "db28fb81-f414-4e01-854d-c28fe8799090"
      },
      "execution_count": 190,
      "outputs": [
        {
          "output_type": "display_data",
          "data": {
            "text/plain": [
              "<IPython.core.display.HTML object>"
            ],
            "text/html": [
              "<table style=\"width:70%; margin-left:auto; margin-right:auto;\" border=\"1\">\n",
              "  <tr style=\"background-color: #f2f2f2;\">\n",
              "    <th style=\"padding: 10px; text-align:center;\">Dataset</th>\n",
              "    <th style=\"padding: 10px; text-align:center;\">MLP (Tutorial 3)</th>\n",
              "    <th style=\"padding: 10px; text-align:center;\">Vanilla GNN (Tutorial 3)</th>\n",
              "    <th style=\"padding: 10px; text-align:center;\">GCN </th>\n",
              "  </tr>\n",
              "  <tr>\n",
              "    <td style=\"padding: 10px; text-align:center;\">Cora</td>\n",
              "    <td style=\"padding: 10px; text-align:center;\">53.40%</td>\n",
              "    <td style=\"padding: 10px; text-align:center;\">75.00%</td>\n",
              "    <td style=\"padding: 10px; text-align:center;\">80.60%</td>\n",
              "  </tr>\n",
              "  <tr style=\"background-color: #f9f9f9;\">\n",
              "    <td style=\"padding: 10px; text-align:center;\">Facebook Page-Page</td>\n",
              "    <td style=\"padding: 10px; text-align:center;\">75.13%</td>\n",
              "    <td style=\"padding: 10px; text-align:center;\">82.67%</td>\n",
              "    <td style=\"padding: 10px; text-align:center;\">91.21%</td>\n",
              "  </tr>\n",
              "  <tr>\n",
              "    <td style=\"padding: 10px; text-align:center;\">CiteSeer</td>\n",
              "    <td style=\"padding: 10px; text-align:center;\">52.70%</td>\n",
              "    <td style=\"padding: 10px; text-align:center;\">65.50%</td>\n",
              "    <td style=\"padding: 10px; text-align:center;\">68.10%</td>\n",
              "  </tr>\n",
              "  <tr style=\"background-color: #f9f9f9;\">\n",
              "    <td style=\"padding: 10px; text-align:center;\">PubMed</td>\n",
              "    <td style=\"padding: 10px; text-align:center;\">71.90%</td>\n",
              "    <td style=\"padding: 10px; text-align:center;\">76.50%</td>\n",
              "    <td style=\"padding: 10px; text-align:center;\">79.10%</td>\n",
              "  </tr>\n",
              "</table>\n"
            ]
          },
          "metadata": {}
        }
      ]
    },
    {
      "cell_type": "markdown",
      "source": [
        "---\n",
        "---\n"
      ],
      "metadata": {
        "id": "qMSXiRutocxv"
      }
    },
    {
      "cell_type": "markdown",
      "source": [
        "# **Node Regression**"
      ],
      "metadata": {
        "id": "f-Fl3mz3ofjW"
      }
    },
    {
      "cell_type": "code",
      "source": [
        "from torch_geometric.datasets import WikipediaNetwork\n",
        "import torch_geometric.transforms as T"
      ],
      "metadata": {
        "id": "aKYKdhlrlRHX"
      },
      "execution_count": 38,
      "outputs": []
    },
    {
      "cell_type": "markdown",
      "source": [
        "### **Wikipedia Chameleon Dataset** - **Predicting web traffic with node regression**"
      ],
      "metadata": {
        "id": "P3ESs7r3ox5f"
      }
    },
    {
      "cell_type": "markdown",
      "source": [
        "### We will be utilizing the [Wikipedia Network dataset](https://arxiv.org/abs/1909.13021) which comprises three page-page networks: Chameleons, Crocodiles, and Squirrels. Specifically, the Chameleons network has 2,277 nodes and 31,421 edges, the Crocodiles network contains 11,631 nodes and 170,918 edges, and the Squirrels network includes 5,201 nodes and 198,493 edges.\n",
        "\n",
        "### In these networks, each node represents an article and the edges denote mutual links between these articles. The features of each node indicate the presence of specific words within the articles. The primary objective of using this dataset is to predict the logarithmic average of the monthly traffic for December 2018."
      ],
      "metadata": {
        "id": "MjBXA9z4quc-"
      }
    },
    {
      "cell_type": "code",
      "source": [
        "dataset = WikipediaNetwork(root=\".\", name=\"chameleon\", transform = T.RandomNodeSplit(num_val=200, num_test=500))"
      ],
      "metadata": {
        "id": "jbG0Q46Jo7ca"
      },
      "execution_count": 157,
      "outputs": []
    },
    {
      "cell_type": "code",
      "source": [
        "data = dataset[0]"
      ],
      "metadata": {
        "id": "tTntNAhksaTh"
      },
      "execution_count": 158,
      "outputs": []
    },
    {
      "cell_type": "code",
      "source": [
        "# Print information about the dataset\n",
        "print(f'Dataset: {dataset}')\n",
        "print('-------------------')\n",
        "print(f'Number of graphs: {len(dataset)}')\n",
        "print(f'Number of nodes: {data.x.shape[0]}')\n",
        "print(f'Number of unique features: {dataset.num_features}')\n",
        "print(f'Number of classes: {dataset.num_classes}')\n",
        "\n",
        "# Print information about the graph\n",
        "print(f'\\nGraph:')\n",
        "print('------')\n",
        "print(f'Edges are directed: {data.is_directed()}')\n",
        "print(f'Graph has isolated nodes: {data.has_isolated_nodes()}')\n",
        "print(f'Graph has loops: {data.has_self_loops()}')"
      ],
      "metadata": {
        "colab": {
          "base_uri": "https://localhost:8080/"
        },
        "id": "Lna8-oato7fc",
        "outputId": "6baef06b-380e-4778-ab9d-b464687dcc11"
      },
      "execution_count": 159,
      "outputs": [
        {
          "output_type": "stream",
          "name": "stdout",
          "text": [
            "Dataset: WikipediaNetwork()\n",
            "-------------------\n",
            "Number of graphs: 1\n",
            "Number of nodes: 2277\n",
            "Number of unique features: 2325\n",
            "Number of classes: 5\n",
            "\n",
            "Graph:\n",
            "------\n",
            "Edges are directed: True\n",
            "Graph has isolated nodes: False\n",
            "Graph has loops: True\n"
          ]
        }
      ]
    },
    {
      "cell_type": "markdown",
      "source": [
        "### We have encountered an issue with our dataset: it indicates that there are five classes, but our objective is to perform node regression, not classification. Upon closer examination, it turns out that these \"classes\" actually represent bins into which continuous values, that we aim to predict, have been grouped."
      ],
      "metadata": {
        "id": "ZTBS9XqutO21"
      }
    },
    {
      "cell_type": "markdown",
      "source": [
        "## Get regression values"
      ],
      "metadata": {
        "id": "n90P6oBTrakz"
      }
    },
    {
      "cell_type": "code",
      "source": [
        "from io import BytesIO\n",
        "from urllib.request import urlopen\n",
        "from zipfile import ZipFile\n",
        "\n",
        "url = 'https://snap.stanford.edu/data/wikipedia.zip'\n",
        "with urlopen(url) as zurl:\n",
        "    with ZipFile(BytesIO(zurl.read())) as zfile:\n",
        "        zfile.extractall('.')"
      ],
      "metadata": {
        "id": "mrT9E6I0o7kr"
      },
      "execution_count": 160,
      "outputs": []
    },
    {
      "cell_type": "code",
      "source": [
        "import pandas as pd\n",
        "import torch\n",
        "df = pd.read_csv('/content/wikipedia/chameleon/musae_chameleon_target.csv')\n",
        "values = np.log10(df['target'])\n",
        "data.y = torch.tensor(values)\n",
        "data.y"
      ],
      "metadata": {
        "colab": {
          "base_uri": "https://localhost:8080/"
        },
        "id": "EfKggfv8o7n0",
        "outputId": "cf1a7730-c61f-4b2e-cc72-62e2e26b3f6b"
      },
      "execution_count": 161,
      "outputs": [
        {
          "output_type": "execute_result",
          "data": {
            "text/plain": [
              "tensor([2.2330, 3.9079, 3.9329,  ..., 1.9956, 4.3598, 2.4409],\n",
              "       dtype=torch.float64)"
            ]
          },
          "metadata": {},
          "execution_count": 161
        }
      ]
    },
    {
      "cell_type": "code",
      "source": [
        "# Get list of degrees for each node\n",
        "degrees = degree(data.edge_index[0]).numpy()\n",
        "\n",
        "# Count the number of nodes for each degree\n",
        "numbers = Counter(degrees)"
      ],
      "metadata": {
        "id": "ABMYo5Iio7qj"
      },
      "execution_count": 162,
      "outputs": []
    },
    {
      "cell_type": "code",
      "source": [
        "fig, ax = plt.subplots()\n",
        "ax.set_xlabel('Node Degree')\n",
        "ax.set_ylabel('Number of Nodes')\n",
        "ax.set_title('Distribution of Node Degrees in the Wikipedia Chameleon Graph')  # Adding a title\n",
        "\n",
        "# Creating the bar plot\n",
        "bars = ax.bar(numbers.keys(), numbers.values(), color='skyblue')  # Color the bars\n",
        "\n",
        "# Adding grid for better readability\n",
        "ax.set_axisbelow(True)\n",
        "ax.yaxis.grid(True, color='#EEEEEE')\n",
        "ax.xaxis.grid(False)\n",
        "\n",
        "# Optionally, add a gentle x-axis limit extension\n",
        "ax.set_xlim(min(numbers.keys()) - 0.5, max(numbers.keys()) + 0.5)\n",
        "\n",
        "# Optionally, add labels on top of each bar\n",
        "for bar in bars:\n",
        "    yval = bar.get_height()\n",
        "\n",
        "plt.show()"
      ],
      "metadata": {
        "colab": {
          "base_uri": "https://localhost:8080/",
          "height": 472
        },
        "id": "_SGKznkio7wC",
        "outputId": "52491f6d-9721-486c-be71-56e14fe788ec"
      },
      "execution_count": 45,
      "outputs": [
        {
          "output_type": "display_data",
          "data": {
            "text/plain": [
              "<Figure size 640x480 with 1 Axes>"
            ],
            "image/png": "[encoded data removed]"
          },
          "metadata": {}
        }
      ]
    },
    {
      "cell_type": "markdown",
      "source": [
        "## **Distribution of our Regression Variable**\n"
      ],
      "metadata": {
        "id": "iTDdvNWNsp2y"
      }
    },
    {
      "cell_type": "code",
      "source": [
        "import seaborn as sns\n",
        "from scipy.stats import norm\n",
        "df['target'] = values\n",
        "sns.displot(df['target'], bins=20, kde=True,stat=\"probability\",)\n",
        "plt.show()"
      ],
      "metadata": {
        "colab": {
          "base_uri": "https://localhost:8080/",
          "height": 506
        },
        "id": "4OEOm_JEsmVK",
        "outputId": "fd559684-3689-4c5a-a3f9-5e96c765fc82"
      },
      "execution_count": 46,
      "outputs": [
        {
          "output_type": "display_data",
          "data": {
            "text/plain": [
              "<Figure size 500x500 with 1 Axes>"
            ],
            "image/png": "[encoded data removed]"
          },
          "metadata": {}
        }
      ]
    },
    {
      "cell_type": "markdown",
      "source": [
        "### **MLP for node regression**"
      ],
      "metadata": {
        "id": "gEqWcN1qtcrg"
      }
    },
    {
      "cell_type": "code",
      "source": [
        "import torch\n",
        "from torch.nn import Linear, Module\n",
        "import torch.nn.functional as F\n",
        "\n",
        "class MLP(Module):\n",
        "\n",
        "    def __init__(self, dim_in, dim_h, dim_out):\n",
        "        super().__init__()\n",
        "        self.linear1 = Linear(dim_in, dim_h)\n",
        "        self.linear2 = Linear(dim_h, dim_out)\n",
        "\n",
        "    def forward(self, x):\n",
        "        x = self.linear1(x)\n",
        "        x = torch.relu(x)\n",
        "        x = self.linear2(x)\n",
        "        return x  # No activation function for regression\n",
        "\n",
        "    def fit(self, data, epochs):\n",
        "        criterion = torch.nn.MSELoss()  # Change loss function to MSE\n",
        "        optimizer = torch.optim.Adam(self.parameters(), lr=0.01, weight_decay=5e-4)\n",
        "        self.train()\n",
        "\n",
        "        for epoch in range(epochs + 1):\n",
        "            optimizer.zero_grad()\n",
        "            out = self(data.x)\n",
        "            loss = criterion(out[data.train_mask], data.y[data.train_mask])\n",
        "\n",
        "            loss.backward()\n",
        "            optimizer.step()\n",
        "\n",
        "            if epoch % 20 == 0:\n",
        "                val_loss = criterion(out[data.val_mask], data.y[data.val_mask])\n",
        "                print(f'Epoch {epoch:>3} | Train Loss: {loss:.3f} | Val Loss: {val_loss:.2f}')\n",
        "\n",
        "    @torch.no_grad()\n",
        "    def test(self, data):\n",
        "        self.eval()\n",
        "        out = self(data.x)\n",
        "        test_loss = torch.nn.functional.mse_loss(out[data.test_mask], data.y[data.test_mask])\n",
        "        return test_loss\n"
      ],
      "metadata": {
        "id": "_igPwcEto7yr"
      },
      "execution_count": 163,
      "outputs": []
    },
    {
      "cell_type": "code",
      "source": [
        "import torch\n",
        "\n",
        "if torch.cuda.is_available():\n",
        "    device = torch.device(\"cuda\")\n",
        "    print(\"CUDA is available. Using GPU.\")\n",
        "else:\n",
        "    device = torch.device(\"cpu\")\n",
        "    print(\"CUDA not available. Using CPU.\")"
      ],
      "metadata": {
        "colab": {
          "base_uri": "https://localhost:8080/"
        },
        "id": "M05XYJyxAJHE",
        "outputId": "09a1f5b0-f075-4ea9-86a9-5eec081e9543"
      },
      "execution_count": 164,
      "outputs": [
        {
          "output_type": "stream",
          "name": "stdout",
          "text": [
            "CUDA is available. Using GPU.\n"
          ]
        }
      ]
    },
    {
      "cell_type": "code",
      "source": [
        "# Assuming 'data' is an object or dictionary containing 'x', 'y', and masks\n",
        "data.x = data.x.to(device)\n",
        "data.y = data.y.to(device)\n",
        "data.train_mask = data.train_mask.to(device)\n",
        "data.val_mask = data.val_mask.to(device)"
      ],
      "metadata": {
        "id": "Gifk0TuqAUjM"
      },
      "execution_count": 165,
      "outputs": []
    },
    {
      "cell_type": "code",
      "source": [
        "data.y = data.y.to(torch.float32).flatten().unsqueeze(1)"
      ],
      "metadata": {
        "id": "tO9_hGR6vPiD"
      },
      "execution_count": 167,
      "outputs": []
    },
    {
      "cell_type": "code",
      "source": [
        "data.y.shape"
      ],
      "metadata": {
        "colab": {
          "base_uri": "https://localhost:8080/"
        },
        "id": "fdu5SoxoDurG",
        "outputId": "7d65bb96-387e-4351-b514-d5ad22276a17"
      },
      "execution_count": 168,
      "outputs": [
        {
          "output_type": "execute_result",
          "data": {
            "text/plain": [
              "torch.Size([2277, 1])"
            ]
          },
          "metadata": {},
          "execution_count": 168
        }
      ]
    },
    {
      "cell_type": "markdown",
      "source": [
        "### **Create the Vanilla MLP regression model**"
      ],
      "metadata": {
        "id": "36iJKGj2uz-Q"
      }
    },
    {
      "cell_type": "code",
      "source": [
        "mlp = MLP(dataset.num_features, 128, 1).to(device)\n",
        "print(mlp)"
      ],
      "metadata": {
        "colab": {
          "base_uri": "https://localhost:8080/"
        },
        "id": "b-ByjADBo71g",
        "outputId": "65200ca0-fa99-4d68-9156-a5376c8dcfe3"
      },
      "execution_count": 169,
      "outputs": [
        {
          "output_type": "stream",
          "name": "stdout",
          "text": [
            "MLP(\n",
            "  (linear1): Linear(in_features=2325, out_features=128, bias=True)\n",
            "  (linear2): Linear(in_features=128, out_features=1, bias=True)\n",
            ")\n"
          ]
        }
      ]
    },
    {
      "cell_type": "code",
      "source": [
        "# Train\n",
        "mlp.fit(data, epochs=200)"
      ],
      "metadata": {
        "colab": {
          "base_uri": "https://localhost:8080/"
        },
        "id": "cpYKmrJ0o74X",
        "outputId": "171db4ee-4310-4967-9f55-ff7065c81267"
      },
      "execution_count": 170,
      "outputs": [
        {
          "output_type": "stream",
          "name": "stdout",
          "text": [
            "Epoch   0 | Train Loss: 11.471 | Val Loss: 11.13\n",
            "Epoch  20 | Train Loss: 1.037 | Val Loss: 1.55\n",
            "Epoch  40 | Train Loss: 0.259 | Val Loss: 1.03\n",
            "Epoch  60 | Train Loss: 0.115 | Val Loss: 0.83\n",
            "Epoch  80 | Train Loss: 0.088 | Val Loss: 0.75\n",
            "Epoch 100 | Train Loss: 0.077 | Val Loss: 0.76\n",
            "Epoch 120 | Train Loss: 0.069 | Val Loss: 0.79\n",
            "Epoch 140 | Train Loss: 0.063 | Val Loss: 0.80\n",
            "Epoch 160 | Train Loss: 0.059 | Val Loss: 0.81\n",
            "Epoch 180 | Train Loss: 0.057 | Val Loss: 0.83\n",
            "Epoch 200 | Train Loss: 0.055 | Val Loss: 0.81\n"
          ]
        }
      ]
    },
    {
      "cell_type": "code",
      "source": [
        "# Test\n",
        "loss = mlp.test(data)\n",
        "print(f'\\nMLP test loss on Wikipedia Chameleon dataset: {loss:.5f}\\n')"
      ],
      "metadata": {
        "colab": {
          "base_uri": "https://localhost:8080/"
        },
        "id": "YKIrydMQo781",
        "outputId": "11660e21-6488-402b-8f16-d7c9b5b69440"
      },
      "execution_count": 171,
      "outputs": [
        {
          "output_type": "stream",
          "name": "stdout",
          "text": [
            "\n",
            "MLP test loss on Wikipedia Chameleon dataset: 1.02798\n",
            "\n"
          ]
        }
      ]
    },
    {
      "cell_type": "markdown",
      "source": [
        "### **Sklearn metrics**"
      ],
      "metadata": {
        "id": "yvZynEh3yP3a"
      }
    },
    {
      "cell_type": "code",
      "source": [
        "from sklearn.metrics import mean_squared_error, mean_absolute_error"
      ],
      "metadata": {
        "id": "8wQX1JXyo7_V"
      },
      "execution_count": 172,
      "outputs": []
    },
    {
      "cell_type": "code",
      "source": [
        "out = mlp(data.x)"
      ],
      "metadata": {
        "id": "zEZwZ1EUyfA8"
      },
      "execution_count": 173,
      "outputs": []
    },
    {
      "cell_type": "code",
      "source": [
        "y_pred = out.cpu().squeeze()[data.test_mask.cpu()].detach().numpy()\n"
      ],
      "metadata": {
        "id": "RtbILs_Hy1qn"
      },
      "execution_count": 174,
      "outputs": []
    },
    {
      "cell_type": "code",
      "source": [
        "mse = mean_squared_error(data.y[data.test_mask].squeeze().cpu(), y_pred)\n",
        "mae = mean_absolute_error(data.y[data.test_mask].squeeze().cpu(), y_pred)\n"
      ],
      "metadata": {
        "id": "m0BqlvNJA2rA"
      },
      "execution_count": 175,
      "outputs": []
    },
    {
      "cell_type": "code",
      "source": [
        "\n",
        "print('=' * 13 + '  MLP on Wikipedia Chameleon Dataset ' + '=' * 13)\n",
        "print(f'MSE = {mse:.4f} | RMSE = {np.sqrt(mse):.4f} | MAE = {mae:.4f}')\n",
        "print('=' * 57)"
      ],
      "metadata": {
        "colab": {
          "base_uri": "https://localhost:8080/"
        },
        "id": "vXJe-GKn09d8",
        "outputId": "0feb5b0f-35e4-4833-d79d-ec6c22138c5a"
      },
      "execution_count": 176,
      "outputs": [
        {
          "output_type": "stream",
          "name": "stdout",
          "text": [
            "=============  MLP on Wikipedia Chameleon Dataset =============\n",
            "MSE = 1.0280 | RMSE = 1.0139 | MAE = 0.7373\n",
            "=========================================================\n"
          ]
        }
      ]
    },
    {
      "cell_type": "markdown",
      "source": [
        "### **GCN on Wikipedia Chamelon Dataset**"
      ],
      "metadata": {
        "id": "uLX0lkLN5TpG"
      }
    },
    {
      "cell_type": "code",
      "source": [
        "from torch_geometric.nn import GCNConv"
      ],
      "metadata": {
        "id": "ogibY-GI7-zg"
      },
      "execution_count": 177,
      "outputs": []
    },
    {
      "cell_type": "code",
      "source": [
        "class GCN(torch.nn.Module):\n",
        "    def __init__(self, dim_in, dim_h, dim_out):\n",
        "        super().__init__()\n",
        "        self.gcn1 = GCNConv(dim_in, dim_h*4)\n",
        "        self.gcn2 = GCNConv(dim_h*4, dim_h*2)\n",
        "        self.gcn3 = GCNConv(dim_h*2, dim_h)\n",
        "        self.linear = torch.nn.Linear(dim_h, dim_out)\n",
        "\n",
        "    def forward(self, x, edge_index):\n",
        "        h = self.gcn1(x, edge_index)\n",
        "        h = torch.relu(h)\n",
        "        h = F.dropout(h, p=0.5, training=self.training)\n",
        "        h = self.gcn2(h, edge_index)\n",
        "        h = torch.relu(h)\n",
        "        h = F.dropout(h, p=0.5, training=self.training)\n",
        "        h = self.gcn3(h, edge_index)\n",
        "        h = torch.relu(h)\n",
        "        h = self.linear(h)\n",
        "        return h\n",
        "\n",
        "    def fit(self, data, epochs):\n",
        "        optimizer = torch.optim.Adam(self.parameters(),lr=0.02,weight_decay=5e-4)\n",
        "\n",
        "        self.train()\n",
        "        for epoch in range(epochs+1):\n",
        "            optimizer.zero_grad()\n",
        "            out = self(data.x, data.edge_index)\n",
        "            loss = F.mse_loss(out.squeeze()[data.train_mask], data.y[data.train_mask].float())\n",
        "            loss.backward()\n",
        "            optimizer.step()\n",
        "            if epoch % 20 == 0:\n",
        "                val_loss = F.mse_loss(out.squeeze()[data.val_mask], data.y[data.val_mask])\n",
        "                print(f\"Epoch {epoch:>3} | Train Loss: {loss:.5f} | Val Loss: {val_loss:.5f}\")\n",
        "\n",
        "    def test(self, data):\n",
        "        self.eval()\n",
        "        out = self(data.x, data.edge_index)\n",
        "        return F.mse_loss(out.squeeze()[data.test_mask], data.y[data.test_mask].float())"
      ],
      "metadata": {
        "id": "1J12ndZ721x-"
      },
      "execution_count": 178,
      "outputs": []
    },
    {
      "cell_type": "code",
      "source": [
        "data.y.shape"
      ],
      "metadata": {
        "colab": {
          "base_uri": "https://localhost:8080/"
        },
        "id": "bhLiTQIyDGgZ",
        "outputId": "618b9369-583e-43c4-b873-cf475431f18c"
      },
      "execution_count": 179,
      "outputs": [
        {
          "output_type": "execute_result",
          "data": {
            "text/plain": [
              "torch.Size([2277, 1])"
            ]
          },
          "metadata": {},
          "execution_count": 179
        }
      ]
    },
    {
      "cell_type": "code",
      "source": [
        "data.y = data.y.to(torch.float32).flatten()"
      ],
      "metadata": {
        "id": "whOeLD128HUw"
      },
      "execution_count": 180,
      "outputs": []
    },
    {
      "cell_type": "code",
      "source": [
        "# Create the Vanilla GNN model\n",
        "gcn = GCN(dataset.num_features, 1024, 1).to(device)\n",
        "print(gcn)\n",
        "\n"
      ],
      "metadata": {
        "colab": {
          "base_uri": "https://localhost:8080/"
        },
        "id": "IKXmWbhF210g",
        "outputId": "c6518fcd-09bf-4d8c-cfad-bc47dc7db647"
      },
      "execution_count": 181,
      "outputs": [
        {
          "output_type": "stream",
          "name": "stdout",
          "text": [
            "GCN(\n",
            "  (gcn1): GCNConv(2325, 4096)\n",
            "  (gcn2): GCNConv(4096, 2048)\n",
            "  (gcn3): GCNConv(2048, 1024)\n",
            "  (linear): Linear(in_features=1024, out_features=1, bias=True)\n",
            ")\n"
          ]
        }
      ]
    },
    {
      "cell_type": "code",
      "source": [
        "data = data.to(device)"
      ],
      "metadata": {
        "id": "2vj-tNgfBfZa"
      },
      "execution_count": 182,
      "outputs": []
    },
    {
      "cell_type": "code",
      "source": [
        "# Train\n",
        "gcn.fit(data, epochs=200)\n",
        "\n"
      ],
      "metadata": {
        "colab": {
          "base_uri": "https://localhost:8080/"
        },
        "id": "auDII55s54jJ",
        "outputId": "8a4b48ff-ad40-4079-9f3b-5a4ea67cc008"
      },
      "execution_count": 183,
      "outputs": [
        {
          "output_type": "stream",
          "name": "stdout",
          "text": [
            "Epoch   0 | Train Loss: 11.62447 | Val Loss: 11.29704\n",
            "Epoch  20 | Train Loss: 12.44890 | Val Loss: 12.10543\n",
            "Epoch  40 | Train Loss: 12.53433 | Val Loss: 12.18985\n",
            "Epoch  60 | Train Loss: 5.70775 | Val Loss: 5.63519\n",
            "Epoch  80 | Train Loss: 0.76001 | Val Loss: 0.77969\n",
            "Epoch 100 | Train Loss: 0.44456 | Val Loss: 0.61861\n",
            "Epoch 120 | Train Loss: 0.39790 | Val Loss: 0.65277\n",
            "Epoch 140 | Train Loss: 0.30105 | Val Loss: 0.69059\n",
            "Epoch 160 | Train Loss: 0.30744 | Val Loss: 0.60631\n",
            "Epoch 180 | Train Loss: 0.31705 | Val Loss: 0.57054\n",
            "Epoch 200 | Train Loss: 0.27112 | Val Loss: 0.55806\n"
          ]
        }
      ]
    },
    {
      "cell_type": "code",
      "source": [
        "# Test\n",
        "loss = gcn.test(data)\n",
        "print(f'\\nGCN test loss: {loss:.5f}\\n')"
      ],
      "metadata": {
        "colab": {
          "base_uri": "https://localhost:8080/"
        },
        "id": "MWkrzV6t55_h",
        "outputId": "dd8e18d3-2b25-40e3-f3c2-e41fd9270c92"
      },
      "execution_count": 184,
      "outputs": [
        {
          "output_type": "stream",
          "name": "stdout",
          "text": [
            "\n",
            "GCN test loss: 0.59467\n",
            "\n"
          ]
        }
      ]
    },
    {
      "cell_type": "code",
      "source": [
        "\n",
        "out = gcn(data.x, data.edge_index)"
      ],
      "metadata": {
        "id": "rn5-CmxC212x"
      },
      "execution_count": 185,
      "outputs": []
    },
    {
      "cell_type": "code",
      "source": [
        "out = out.cpu()"
      ],
      "metadata": {
        "id": "V-TwjM0cCFwj"
      },
      "execution_count": 186,
      "outputs": []
    },
    {
      "cell_type": "code",
      "source": [
        "y_pred = out.squeeze()[data.test_mask.cpu()].detach().numpy()\n"
      ],
      "metadata": {
        "id": "wa7fVOdjCHkj"
      },
      "execution_count": 187,
      "outputs": []
    },
    {
      "cell_type": "code",
      "source": [
        "mse = mean_squared_error(data.y[data.test_mask].squeeze().cpu(), y_pred)\n",
        "mae = mean_absolute_error(data.y[data.test_mask].squeeze().cpu(), y_pred)"
      ],
      "metadata": {
        "id": "0XXj3Gt2CY8-"
      },
      "execution_count": 188,
      "outputs": []
    },
    {
      "cell_type": "code",
      "source": [
        "\n",
        "print('=' * 13 + '  GCN Wikipedia Chameleon Dataset  ' + '=' * 13)\n",
        "print(f'MSE = {mse:.4f} | RMSE = {np.sqrt(mse):.4f} | MAE = {mae:.4f}')\n",
        "print('=' * 57)"
      ],
      "metadata": {
        "colab": {
          "base_uri": "https://localhost:8080/"
        },
        "id": "N2KBebYy6wf_",
        "outputId": "f798fab6-e127-47a9-bbc3-9384932dd49e"
      },
      "execution_count": 189,
      "outputs": [
        {
          "output_type": "stream",
          "name": "stdout",
          "text": [
            "=============  GCN Squirrel Chameleon Dataset  =============\n",
            "MSE = 0.5947 | RMSE = 0.7711 | MAE = 0.6059\n",
            "=========================================================\n"
          ]
        }
      ]
    },
    {
      "cell_type": "markdown",
      "source": [
        "### **Comparison**\n"
      ],
      "metadata": {
        "id": "5FYUSk4aD_xF"
      }
    },
    {
      "cell_type": "markdown",
      "source": [
        "| Model & Dataset                          | MSE  ⬇  | RMSE  ⬇ | MAE  ⬇  |\n",
        "|------------------------------------------|--------|--------|--------|\n",
        "| **MLP** on Wikipedia Chameleon Dataset       | 1.0280 | 1.0139 | 0.7373 |\n",
        "| **GCN** on Wikipedia Chameleon Dataset        | 0.5947 | 0.7711 | 0.6059 |"
      ],
      "metadata": {
        "id": "1JkyKi1zEeQi"
      }
    },
    {
      "cell_type": "markdown",
      "source": [
        "Thank you!"
      ],
      "metadata": {
        "id": "eHJwqDfSE755"
      }
    }
  ]
}